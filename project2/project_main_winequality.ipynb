{
  "nbformat": 4,
  "nbformat_minor": 0,
  "metadata": {
    "colab": {
      "provenance": [],
      "authorship_tag": "ABX9TyOC6SNNe7lG9lfA/C/R1ucg",
      "include_colab_link": true
    },
    "kernelspec": {
      "name": "python3",
      "display_name": "Python 3"
    },
    "language_info": {
      "name": "python"
    }
  },
  "cells": [
    {
      "cell_type": "markdown",
      "metadata": {
        "id": "view-in-github",
        "colab_type": "text"
      },
      "source": [
        "<a href=\"https://colab.research.google.com/github/shyamkumar77/ML_Projects/blob/main/project2/project_main_winequality.ipynb\" target=\"_parent\"><img src=\"https://colab.research.google.com/assets/colab-badge.svg\" alt=\"Open In Colab\"/></a>"
      ]
    },
    {
      "cell_type": "code",
      "execution_count": 2,
      "metadata": {
        "id": "0If4d3qqfxo5"
      },
      "outputs": [],
      "source": [
        "import pandas as pd\n",
        "import numpy as np\n",
        "import seaborn as sns\n",
        "import matplotlib.pyplot as plt\n"
      ]
    },
    {
      "cell_type": "code",
      "source": [
        "data = pd.read_csv('/content/Wine Quality.csv')\n",
        "data.head()"
      ],
      "metadata": {
        "colab": {
          "base_uri": "https://localhost:8080/",
          "height": 267
        },
        "id": "YG3tcuvQf8qa",
        "outputId": "3665c025-0689-4883-d2e0-53892f48c12f"
      },
      "execution_count": 3,
      "outputs": [
        {
          "output_type": "execute_result",
          "data": {
            "text/plain": [
              "   fixed acidity  volatile acidity  citric acid  residual sugar  chlorides  \\\n",
              "0            7.4              0.70         0.00             1.9      0.076   \n",
              "1            7.8              0.88         0.00             2.6      0.098   \n",
              "2            7.8              0.76         0.04             2.3      0.092   \n",
              "3           11.2              0.28         0.56             1.9      0.075   \n",
              "4            7.4              0.70         0.00             1.9      0.076   \n",
              "\n",
              "   free sulfur dioxide  total sulfur dioxide  density    pH  sulphates  \\\n",
              "0                 11.0                  34.0   0.9978  3.51       0.56   \n",
              "1                 25.0                  67.0   0.9968  3.20       0.68   \n",
              "2                 15.0                  54.0   0.9970  3.26       0.65   \n",
              "3                 17.0                  60.0   0.9980  3.16       0.58   \n",
              "4                 11.0                  34.0   0.9978  3.51       0.56   \n",
              "\n",
              "   alcohol  quality  Id  \n",
              "0      9.4        5   0  \n",
              "1      9.8        5   1  \n",
              "2      9.8        5   2  \n",
              "3      9.8        6   3  \n",
              "4      9.4        5   4  "
            ],
            "text/html": [
              "\n",
              "  <div id=\"df-9a64f429-7648-400b-ae82-9906ae58ec74\">\n",
              "    <div class=\"colab-df-container\">\n",
              "      <div>\n",
              "<style scoped>\n",
              "    .dataframe tbody tr th:only-of-type {\n",
              "        vertical-align: middle;\n",
              "    }\n",
              "\n",
              "    .dataframe tbody tr th {\n",
              "        vertical-align: top;\n",
              "    }\n",
              "\n",
              "    .dataframe thead th {\n",
              "        text-align: right;\n",
              "    }\n",
              "</style>\n",
              "<table border=\"1\" class=\"dataframe\">\n",
              "  <thead>\n",
              "    <tr style=\"text-align: right;\">\n",
              "      <th></th>\n",
              "      <th>fixed acidity</th>\n",
              "      <th>volatile acidity</th>\n",
              "      <th>citric acid</th>\n",
              "      <th>residual sugar</th>\n",
              "      <th>chlorides</th>\n",
              "      <th>free sulfur dioxide</th>\n",
              "      <th>total sulfur dioxide</th>\n",
              "      <th>density</th>\n",
              "      <th>pH</th>\n",
              "      <th>sulphates</th>\n",
              "      <th>alcohol</th>\n",
              "      <th>quality</th>\n",
              "      <th>Id</th>\n",
              "    </tr>\n",
              "  </thead>\n",
              "  <tbody>\n",
              "    <tr>\n",
              "      <th>0</th>\n",
              "      <td>7.4</td>\n",
              "      <td>0.70</td>\n",
              "      <td>0.00</td>\n",
              "      <td>1.9</td>\n",
              "      <td>0.076</td>\n",
              "      <td>11.0</td>\n",
              "      <td>34.0</td>\n",
              "      <td>0.9978</td>\n",
              "      <td>3.51</td>\n",
              "      <td>0.56</td>\n",
              "      <td>9.4</td>\n",
              "      <td>5</td>\n",
              "      <td>0</td>\n",
              "    </tr>\n",
              "    <tr>\n",
              "      <th>1</th>\n",
              "      <td>7.8</td>\n",
              "      <td>0.88</td>\n",
              "      <td>0.00</td>\n",
              "      <td>2.6</td>\n",
              "      <td>0.098</td>\n",
              "      <td>25.0</td>\n",
              "      <td>67.0</td>\n",
              "      <td>0.9968</td>\n",
              "      <td>3.20</td>\n",
              "      <td>0.68</td>\n",
              "      <td>9.8</td>\n",
              "      <td>5</td>\n",
              "      <td>1</td>\n",
              "    </tr>\n",
              "    <tr>\n",
              "      <th>2</th>\n",
              "      <td>7.8</td>\n",
              "      <td>0.76</td>\n",
              "      <td>0.04</td>\n",
              "      <td>2.3</td>\n",
              "      <td>0.092</td>\n",
              "      <td>15.0</td>\n",
              "      <td>54.0</td>\n",
              "      <td>0.9970</td>\n",
              "      <td>3.26</td>\n",
              "      <td>0.65</td>\n",
              "      <td>9.8</td>\n",
              "      <td>5</td>\n",
              "      <td>2</td>\n",
              "    </tr>\n",
              "    <tr>\n",
              "      <th>3</th>\n",
              "      <td>11.2</td>\n",
              "      <td>0.28</td>\n",
              "      <td>0.56</td>\n",
              "      <td>1.9</td>\n",
              "      <td>0.075</td>\n",
              "      <td>17.0</td>\n",
              "      <td>60.0</td>\n",
              "      <td>0.9980</td>\n",
              "      <td>3.16</td>\n",
              "      <td>0.58</td>\n",
              "      <td>9.8</td>\n",
              "      <td>6</td>\n",
              "      <td>3</td>\n",
              "    </tr>\n",
              "    <tr>\n",
              "      <th>4</th>\n",
              "      <td>7.4</td>\n",
              "      <td>0.70</td>\n",
              "      <td>0.00</td>\n",
              "      <td>1.9</td>\n",
              "      <td>0.076</td>\n",
              "      <td>11.0</td>\n",
              "      <td>34.0</td>\n",
              "      <td>0.9978</td>\n",
              "      <td>3.51</td>\n",
              "      <td>0.56</td>\n",
              "      <td>9.4</td>\n",
              "      <td>5</td>\n",
              "      <td>4</td>\n",
              "    </tr>\n",
              "  </tbody>\n",
              "</table>\n",
              "</div>\n",
              "      <button class=\"colab-df-convert\" onclick=\"convertToInteractive('df-9a64f429-7648-400b-ae82-9906ae58ec74')\"\n",
              "              title=\"Convert this dataframe to an interactive table.\"\n",
              "              style=\"display:none;\">\n",
              "        \n",
              "  <svg xmlns=\"http://www.w3.org/2000/svg\" height=\"24px\"viewBox=\"0 0 24 24\"\n",
              "       width=\"24px\">\n",
              "    <path d=\"M0 0h24v24H0V0z\" fill=\"none\"/>\n",
              "    <path d=\"M18.56 5.44l.94 2.06.94-2.06 2.06-.94-2.06-.94-.94-2.06-.94 2.06-2.06.94zm-11 1L8.5 8.5l.94-2.06 2.06-.94-2.06-.94L8.5 2.5l-.94 2.06-2.06.94zm10 10l.94 2.06.94-2.06 2.06-.94-2.06-.94-.94-2.06-.94 2.06-2.06.94z\"/><path d=\"M17.41 7.96l-1.37-1.37c-.4-.4-.92-.59-1.43-.59-.52 0-1.04.2-1.43.59L10.3 9.45l-7.72 7.72c-.78.78-.78 2.05 0 2.83L4 21.41c.39.39.9.59 1.41.59.51 0 1.02-.2 1.41-.59l7.78-7.78 2.81-2.81c.8-.78.8-2.07 0-2.86zM5.41 20L4 18.59l7.72-7.72 1.47 1.35L5.41 20z\"/>\n",
              "  </svg>\n",
              "      </button>\n",
              "      \n",
              "  <style>\n",
              "    .colab-df-container {\n",
              "      display:flex;\n",
              "      flex-wrap:wrap;\n",
              "      gap: 12px;\n",
              "    }\n",
              "\n",
              "    .colab-df-convert {\n",
              "      background-color: #E8F0FE;\n",
              "      border: none;\n",
              "      border-radius: 50%;\n",
              "      cursor: pointer;\n",
              "      display: none;\n",
              "      fill: #1967D2;\n",
              "      height: 32px;\n",
              "      padding: 0 0 0 0;\n",
              "      width: 32px;\n",
              "    }\n",
              "\n",
              "    .colab-df-convert:hover {\n",
              "      background-color: #E2EBFA;\n",
              "      box-shadow: 0px 1px 2px rgba(60, 64, 67, 0.3), 0px 1px 3px 1px rgba(60, 64, 67, 0.15);\n",
              "      fill: #174EA6;\n",
              "    }\n",
              "\n",
              "    [theme=dark] .colab-df-convert {\n",
              "      background-color: #3B4455;\n",
              "      fill: #D2E3FC;\n",
              "    }\n",
              "\n",
              "    [theme=dark] .colab-df-convert:hover {\n",
              "      background-color: #434B5C;\n",
              "      box-shadow: 0px 1px 3px 1px rgba(0, 0, 0, 0.15);\n",
              "      filter: drop-shadow(0px 1px 2px rgba(0, 0, 0, 0.3));\n",
              "      fill: #FFFFFF;\n",
              "    }\n",
              "  </style>\n",
              "\n",
              "      <script>\n",
              "        const buttonEl =\n",
              "          document.querySelector('#df-9a64f429-7648-400b-ae82-9906ae58ec74 button.colab-df-convert');\n",
              "        buttonEl.style.display =\n",
              "          google.colab.kernel.accessAllowed ? 'block' : 'none';\n",
              "\n",
              "        async function convertToInteractive(key) {\n",
              "          const element = document.querySelector('#df-9a64f429-7648-400b-ae82-9906ae58ec74');\n",
              "          const dataTable =\n",
              "            await google.colab.kernel.invokeFunction('convertToInteractive',\n",
              "                                                     [key], {});\n",
              "          if (!dataTable) return;\n",
              "\n",
              "          const docLinkHtml = 'Like what you see? Visit the ' +\n",
              "            '<a target=\"_blank\" href=https://colab.research.google.com/notebooks/data_table.ipynb>data table notebook</a>'\n",
              "            + ' to learn more about interactive tables.';\n",
              "          element.innerHTML = '';\n",
              "          dataTable['output_type'] = 'display_data';\n",
              "          await google.colab.output.renderOutput(dataTable, element);\n",
              "          const docLink = document.createElement('div');\n",
              "          docLink.innerHTML = docLinkHtml;\n",
              "          element.appendChild(docLink);\n",
              "        }\n",
              "      </script>\n",
              "    </div>\n",
              "  </div>\n",
              "  "
            ]
          },
          "metadata": {},
          "execution_count": 3
        }
      ]
    },
    {
      "cell_type": "code",
      "source": [
        "data.shape"
      ],
      "metadata": {
        "colab": {
          "base_uri": "https://localhost:8080/"
        },
        "id": "PYZhiEFiR7yt",
        "outputId": "b8838177-dbf8-4b81-8172-0bd1e12d7dcb"
      },
      "execution_count": 4,
      "outputs": [
        {
          "output_type": "execute_result",
          "data": {
            "text/plain": [
              "(1143, 13)"
            ]
          },
          "metadata": {},
          "execution_count": 4
        }
      ]
    },
    {
      "cell_type": "code",
      "source": [
        "data.dtypes"
      ],
      "metadata": {
        "colab": {
          "base_uri": "https://localhost:8080/"
        },
        "id": "o0ANfpbgSQqZ",
        "outputId": "9538958d-baa4-4731-99cd-577836f0086e"
      },
      "execution_count": 5,
      "outputs": [
        {
          "output_type": "execute_result",
          "data": {
            "text/plain": [
              "fixed acidity           float64\n",
              "volatile acidity        float64\n",
              "citric acid             float64\n",
              "residual sugar          float64\n",
              "chlorides               float64\n",
              "free sulfur dioxide     float64\n",
              "total sulfur dioxide    float64\n",
              "density                 float64\n",
              "pH                      float64\n",
              "sulphates               float64\n",
              "alcohol                 float64\n",
              "quality                   int64\n",
              "Id                        int64\n",
              "dtype: object"
            ]
          },
          "metadata": {},
          "execution_count": 5
        }
      ]
    },
    {
      "cell_type": "code",
      "source": [
        "data.isnull().sum()"
      ],
      "metadata": {
        "colab": {
          "base_uri": "https://localhost:8080/"
        },
        "id": "KIFHQmJzSWG2",
        "outputId": "e22b4e7d-5bb6-4135-9186-4bca110a54e4"
      },
      "execution_count": 6,
      "outputs": [
        {
          "output_type": "execute_result",
          "data": {
            "text/plain": [
              "fixed acidity           0\n",
              "volatile acidity        0\n",
              "citric acid             0\n",
              "residual sugar          0\n",
              "chlorides               0\n",
              "free sulfur dioxide     0\n",
              "total sulfur dioxide    0\n",
              "density                 0\n",
              "pH                      0\n",
              "sulphates               0\n",
              "alcohol                 0\n",
              "quality                 0\n",
              "Id                      0\n",
              "dtype: int64"
            ]
          },
          "metadata": {},
          "execution_count": 6
        }
      ]
    },
    {
      "cell_type": "code",
      "source": [
        "data.corr()"
      ],
      "metadata": {
        "colab": {
          "base_uri": "https://localhost:8080/",
          "height": 657
        },
        "id": "pSJEGueaSZSW",
        "outputId": "cb72dcb6-f6c1-4d85-91df-1f92079aa1f3"
      },
      "execution_count": 7,
      "outputs": [
        {
          "output_type": "execute_result",
          "data": {
            "text/plain": [
              "                      fixed acidity  volatile acidity  citric acid  \\\n",
              "fixed acidity              1.000000         -0.250728     0.673157   \n",
              "volatile acidity          -0.250728          1.000000    -0.544187   \n",
              "citric acid                0.673157         -0.544187     1.000000   \n",
              "residual sugar             0.171831         -0.005751     0.175815   \n",
              "chlorides                  0.107889          0.056336     0.245312   \n",
              "free sulfur dioxide       -0.164831         -0.001962    -0.057589   \n",
              "total sulfur dioxide      -0.110628          0.077748     0.036871   \n",
              "density                    0.681501          0.016512     0.375243   \n",
              "pH                        -0.685163          0.221492    -0.546339   \n",
              "sulphates                  0.174592         -0.276079     0.331232   \n",
              "alcohol                   -0.075055         -0.203909     0.106250   \n",
              "quality                    0.121970         -0.407394     0.240821   \n",
              "Id                        -0.275826         -0.007892    -0.139011   \n",
              "\n",
              "                      residual sugar  chlorides  free sulfur dioxide  \\\n",
              "fixed acidity               0.171831   0.107889            -0.164831   \n",
              "volatile acidity           -0.005751   0.056336            -0.001962   \n",
              "citric acid                 0.175815   0.245312            -0.057589   \n",
              "residual sugar              1.000000   0.070863             0.165339   \n",
              "chlorides                   0.070863   1.000000             0.015280   \n",
              "free sulfur dioxide         0.165339   0.015280             1.000000   \n",
              "total sulfur dioxide        0.190790   0.048163             0.661093   \n",
              "density                     0.380147   0.208901            -0.054150   \n",
              "pH                         -0.116959  -0.277759             0.072804   \n",
              "sulphates                   0.017475   0.374784             0.034445   \n",
              "alcohol                     0.058421  -0.229917            -0.047095   \n",
              "quality                     0.022002  -0.124085            -0.063260   \n",
              "Id                         -0.046344  -0.088099             0.095268   \n",
              "\n",
              "                      total sulfur dioxide   density        pH  sulphates  \\\n",
              "fixed acidity                    -0.110628  0.681501 -0.685163   0.174592   \n",
              "volatile acidity                  0.077748  0.016512  0.221492  -0.276079   \n",
              "citric acid                       0.036871  0.375243 -0.546339   0.331232   \n",
              "residual sugar                    0.190790  0.380147 -0.116959   0.017475   \n",
              "chlorides                         0.048163  0.208901 -0.277759   0.374784   \n",
              "free sulfur dioxide               0.661093 -0.054150  0.072804   0.034445   \n",
              "total sulfur dioxide              1.000000  0.050175 -0.059126   0.026894   \n",
              "density                           0.050175  1.000000 -0.352775   0.143139   \n",
              "pH                               -0.059126 -0.352775  1.000000  -0.185499   \n",
              "sulphates                         0.026894  0.143139 -0.185499   1.000000   \n",
              "alcohol                          -0.188165 -0.494727  0.225322   0.094421   \n",
              "quality                          -0.183339 -0.175208 -0.052453   0.257710   \n",
              "Id                               -0.107389 -0.363926  0.132904  -0.103954   \n",
              "\n",
              "                       alcohol   quality        Id  \n",
              "fixed acidity        -0.075055  0.121970 -0.275826  \n",
              "volatile acidity     -0.203909 -0.407394 -0.007892  \n",
              "citric acid           0.106250  0.240821 -0.139011  \n",
              "residual sugar        0.058421  0.022002 -0.046344  \n",
              "chlorides            -0.229917 -0.124085 -0.088099  \n",
              "free sulfur dioxide  -0.047095 -0.063260  0.095268  \n",
              "total sulfur dioxide -0.188165 -0.183339 -0.107389  \n",
              "density              -0.494727 -0.175208 -0.363926  \n",
              "pH                    0.225322 -0.052453  0.132904  \n",
              "sulphates             0.094421  0.257710 -0.103954  \n",
              "alcohol               1.000000  0.484866  0.238087  \n",
              "quality               0.484866  1.000000  0.069708  \n",
              "Id                    0.238087  0.069708  1.000000  "
            ],
            "text/html": [
              "\n",
              "  <div id=\"df-e5e1a0e1-c5d3-4a74-9508-b2aff3fad2cc\">\n",
              "    <div class=\"colab-df-container\">\n",
              "      <div>\n",
              "<style scoped>\n",
              "    .dataframe tbody tr th:only-of-type {\n",
              "        vertical-align: middle;\n",
              "    }\n",
              "\n",
              "    .dataframe tbody tr th {\n",
              "        vertical-align: top;\n",
              "    }\n",
              "\n",
              "    .dataframe thead th {\n",
              "        text-align: right;\n",
              "    }\n",
              "</style>\n",
              "<table border=\"1\" class=\"dataframe\">\n",
              "  <thead>\n",
              "    <tr style=\"text-align: right;\">\n",
              "      <th></th>\n",
              "      <th>fixed acidity</th>\n",
              "      <th>volatile acidity</th>\n",
              "      <th>citric acid</th>\n",
              "      <th>residual sugar</th>\n",
              "      <th>chlorides</th>\n",
              "      <th>free sulfur dioxide</th>\n",
              "      <th>total sulfur dioxide</th>\n",
              "      <th>density</th>\n",
              "      <th>pH</th>\n",
              "      <th>sulphates</th>\n",
              "      <th>alcohol</th>\n",
              "      <th>quality</th>\n",
              "      <th>Id</th>\n",
              "    </tr>\n",
              "  </thead>\n",
              "  <tbody>\n",
              "    <tr>\n",
              "      <th>fixed acidity</th>\n",
              "      <td>1.000000</td>\n",
              "      <td>-0.250728</td>\n",
              "      <td>0.673157</td>\n",
              "      <td>0.171831</td>\n",
              "      <td>0.107889</td>\n",
              "      <td>-0.164831</td>\n",
              "      <td>-0.110628</td>\n",
              "      <td>0.681501</td>\n",
              "      <td>-0.685163</td>\n",
              "      <td>0.174592</td>\n",
              "      <td>-0.075055</td>\n",
              "      <td>0.121970</td>\n",
              "      <td>-0.275826</td>\n",
              "    </tr>\n",
              "    <tr>\n",
              "      <th>volatile acidity</th>\n",
              "      <td>-0.250728</td>\n",
              "      <td>1.000000</td>\n",
              "      <td>-0.544187</td>\n",
              "      <td>-0.005751</td>\n",
              "      <td>0.056336</td>\n",
              "      <td>-0.001962</td>\n",
              "      <td>0.077748</td>\n",
              "      <td>0.016512</td>\n",
              "      <td>0.221492</td>\n",
              "      <td>-0.276079</td>\n",
              "      <td>-0.203909</td>\n",
              "      <td>-0.407394</td>\n",
              "      <td>-0.007892</td>\n",
              "    </tr>\n",
              "    <tr>\n",
              "      <th>citric acid</th>\n",
              "      <td>0.673157</td>\n",
              "      <td>-0.544187</td>\n",
              "      <td>1.000000</td>\n",
              "      <td>0.175815</td>\n",
              "      <td>0.245312</td>\n",
              "      <td>-0.057589</td>\n",
              "      <td>0.036871</td>\n",
              "      <td>0.375243</td>\n",
              "      <td>-0.546339</td>\n",
              "      <td>0.331232</td>\n",
              "      <td>0.106250</td>\n",
              "      <td>0.240821</td>\n",
              "      <td>-0.139011</td>\n",
              "    </tr>\n",
              "    <tr>\n",
              "      <th>residual sugar</th>\n",
              "      <td>0.171831</td>\n",
              "      <td>-0.005751</td>\n",
              "      <td>0.175815</td>\n",
              "      <td>1.000000</td>\n",
              "      <td>0.070863</td>\n",
              "      <td>0.165339</td>\n",
              "      <td>0.190790</td>\n",
              "      <td>0.380147</td>\n",
              "      <td>-0.116959</td>\n",
              "      <td>0.017475</td>\n",
              "      <td>0.058421</td>\n",
              "      <td>0.022002</td>\n",
              "      <td>-0.046344</td>\n",
              "    </tr>\n",
              "    <tr>\n",
              "      <th>chlorides</th>\n",
              "      <td>0.107889</td>\n",
              "      <td>0.056336</td>\n",
              "      <td>0.245312</td>\n",
              "      <td>0.070863</td>\n",
              "      <td>1.000000</td>\n",
              "      <td>0.015280</td>\n",
              "      <td>0.048163</td>\n",
              "      <td>0.208901</td>\n",
              "      <td>-0.277759</td>\n",
              "      <td>0.374784</td>\n",
              "      <td>-0.229917</td>\n",
              "      <td>-0.124085</td>\n",
              "      <td>-0.088099</td>\n",
              "    </tr>\n",
              "    <tr>\n",
              "      <th>free sulfur dioxide</th>\n",
              "      <td>-0.164831</td>\n",
              "      <td>-0.001962</td>\n",
              "      <td>-0.057589</td>\n",
              "      <td>0.165339</td>\n",
              "      <td>0.015280</td>\n",
              "      <td>1.000000</td>\n",
              "      <td>0.661093</td>\n",
              "      <td>-0.054150</td>\n",
              "      <td>0.072804</td>\n",
              "      <td>0.034445</td>\n",
              "      <td>-0.047095</td>\n",
              "      <td>-0.063260</td>\n",
              "      <td>0.095268</td>\n",
              "    </tr>\n",
              "    <tr>\n",
              "      <th>total sulfur dioxide</th>\n",
              "      <td>-0.110628</td>\n",
              "      <td>0.077748</td>\n",
              "      <td>0.036871</td>\n",
              "      <td>0.190790</td>\n",
              "      <td>0.048163</td>\n",
              "      <td>0.661093</td>\n",
              "      <td>1.000000</td>\n",
              "      <td>0.050175</td>\n",
              "      <td>-0.059126</td>\n",
              "      <td>0.026894</td>\n",
              "      <td>-0.188165</td>\n",
              "      <td>-0.183339</td>\n",
              "      <td>-0.107389</td>\n",
              "    </tr>\n",
              "    <tr>\n",
              "      <th>density</th>\n",
              "      <td>0.681501</td>\n",
              "      <td>0.016512</td>\n",
              "      <td>0.375243</td>\n",
              "      <td>0.380147</td>\n",
              "      <td>0.208901</td>\n",
              "      <td>-0.054150</td>\n",
              "      <td>0.050175</td>\n",
              "      <td>1.000000</td>\n",
              "      <td>-0.352775</td>\n",
              "      <td>0.143139</td>\n",
              "      <td>-0.494727</td>\n",
              "      <td>-0.175208</td>\n",
              "      <td>-0.363926</td>\n",
              "    </tr>\n",
              "    <tr>\n",
              "      <th>pH</th>\n",
              "      <td>-0.685163</td>\n",
              "      <td>0.221492</td>\n",
              "      <td>-0.546339</td>\n",
              "      <td>-0.116959</td>\n",
              "      <td>-0.277759</td>\n",
              "      <td>0.072804</td>\n",
              "      <td>-0.059126</td>\n",
              "      <td>-0.352775</td>\n",
              "      <td>1.000000</td>\n",
              "      <td>-0.185499</td>\n",
              "      <td>0.225322</td>\n",
              "      <td>-0.052453</td>\n",
              "      <td>0.132904</td>\n",
              "    </tr>\n",
              "    <tr>\n",
              "      <th>sulphates</th>\n",
              "      <td>0.174592</td>\n",
              "      <td>-0.276079</td>\n",
              "      <td>0.331232</td>\n",
              "      <td>0.017475</td>\n",
              "      <td>0.374784</td>\n",
              "      <td>0.034445</td>\n",
              "      <td>0.026894</td>\n",
              "      <td>0.143139</td>\n",
              "      <td>-0.185499</td>\n",
              "      <td>1.000000</td>\n",
              "      <td>0.094421</td>\n",
              "      <td>0.257710</td>\n",
              "      <td>-0.103954</td>\n",
              "    </tr>\n",
              "    <tr>\n",
              "      <th>alcohol</th>\n",
              "      <td>-0.075055</td>\n",
              "      <td>-0.203909</td>\n",
              "      <td>0.106250</td>\n",
              "      <td>0.058421</td>\n",
              "      <td>-0.229917</td>\n",
              "      <td>-0.047095</td>\n",
              "      <td>-0.188165</td>\n",
              "      <td>-0.494727</td>\n",
              "      <td>0.225322</td>\n",
              "      <td>0.094421</td>\n",
              "      <td>1.000000</td>\n",
              "      <td>0.484866</td>\n",
              "      <td>0.238087</td>\n",
              "    </tr>\n",
              "    <tr>\n",
              "      <th>quality</th>\n",
              "      <td>0.121970</td>\n",
              "      <td>-0.407394</td>\n",
              "      <td>0.240821</td>\n",
              "      <td>0.022002</td>\n",
              "      <td>-0.124085</td>\n",
              "      <td>-0.063260</td>\n",
              "      <td>-0.183339</td>\n",
              "      <td>-0.175208</td>\n",
              "      <td>-0.052453</td>\n",
              "      <td>0.257710</td>\n",
              "      <td>0.484866</td>\n",
              "      <td>1.000000</td>\n",
              "      <td>0.069708</td>\n",
              "    </tr>\n",
              "    <tr>\n",
              "      <th>Id</th>\n",
              "      <td>-0.275826</td>\n",
              "      <td>-0.007892</td>\n",
              "      <td>-0.139011</td>\n",
              "      <td>-0.046344</td>\n",
              "      <td>-0.088099</td>\n",
              "      <td>0.095268</td>\n",
              "      <td>-0.107389</td>\n",
              "      <td>-0.363926</td>\n",
              "      <td>0.132904</td>\n",
              "      <td>-0.103954</td>\n",
              "      <td>0.238087</td>\n",
              "      <td>0.069708</td>\n",
              "      <td>1.000000</td>\n",
              "    </tr>\n",
              "  </tbody>\n",
              "</table>\n",
              "</div>\n",
              "      <button class=\"colab-df-convert\" onclick=\"convertToInteractive('df-e5e1a0e1-c5d3-4a74-9508-b2aff3fad2cc')\"\n",
              "              title=\"Convert this dataframe to an interactive table.\"\n",
              "              style=\"display:none;\">\n",
              "        \n",
              "  <svg xmlns=\"http://www.w3.org/2000/svg\" height=\"24px\"viewBox=\"0 0 24 24\"\n",
              "       width=\"24px\">\n",
              "    <path d=\"M0 0h24v24H0V0z\" fill=\"none\"/>\n",
              "    <path d=\"M18.56 5.44l.94 2.06.94-2.06 2.06-.94-2.06-.94-.94-2.06-.94 2.06-2.06.94zm-11 1L8.5 8.5l.94-2.06 2.06-.94-2.06-.94L8.5 2.5l-.94 2.06-2.06.94zm10 10l.94 2.06.94-2.06 2.06-.94-2.06-.94-.94-2.06-.94 2.06-2.06.94z\"/><path d=\"M17.41 7.96l-1.37-1.37c-.4-.4-.92-.59-1.43-.59-.52 0-1.04.2-1.43.59L10.3 9.45l-7.72 7.72c-.78.78-.78 2.05 0 2.83L4 21.41c.39.39.9.59 1.41.59.51 0 1.02-.2 1.41-.59l7.78-7.78 2.81-2.81c.8-.78.8-2.07 0-2.86zM5.41 20L4 18.59l7.72-7.72 1.47 1.35L5.41 20z\"/>\n",
              "  </svg>\n",
              "      </button>\n",
              "      \n",
              "  <style>\n",
              "    .colab-df-container {\n",
              "      display:flex;\n",
              "      flex-wrap:wrap;\n",
              "      gap: 12px;\n",
              "    }\n",
              "\n",
              "    .colab-df-convert {\n",
              "      background-color: #E8F0FE;\n",
              "      border: none;\n",
              "      border-radius: 50%;\n",
              "      cursor: pointer;\n",
              "      display: none;\n",
              "      fill: #1967D2;\n",
              "      height: 32px;\n",
              "      padding: 0 0 0 0;\n",
              "      width: 32px;\n",
              "    }\n",
              "\n",
              "    .colab-df-convert:hover {\n",
              "      background-color: #E2EBFA;\n",
              "      box-shadow: 0px 1px 2px rgba(60, 64, 67, 0.3), 0px 1px 3px 1px rgba(60, 64, 67, 0.15);\n",
              "      fill: #174EA6;\n",
              "    }\n",
              "\n",
              "    [theme=dark] .colab-df-convert {\n",
              "      background-color: #3B4455;\n",
              "      fill: #D2E3FC;\n",
              "    }\n",
              "\n",
              "    [theme=dark] .colab-df-convert:hover {\n",
              "      background-color: #434B5C;\n",
              "      box-shadow: 0px 1px 3px 1px rgba(0, 0, 0, 0.15);\n",
              "      filter: drop-shadow(0px 1px 2px rgba(0, 0, 0, 0.3));\n",
              "      fill: #FFFFFF;\n",
              "    }\n",
              "  </style>\n",
              "\n",
              "      <script>\n",
              "        const buttonEl =\n",
              "          document.querySelector('#df-e5e1a0e1-c5d3-4a74-9508-b2aff3fad2cc button.colab-df-convert');\n",
              "        buttonEl.style.display =\n",
              "          google.colab.kernel.accessAllowed ? 'block' : 'none';\n",
              "\n",
              "        async function convertToInteractive(key) {\n",
              "          const element = document.querySelector('#df-e5e1a0e1-c5d3-4a74-9508-b2aff3fad2cc');\n",
              "          const dataTable =\n",
              "            await google.colab.kernel.invokeFunction('convertToInteractive',\n",
              "                                                     [key], {});\n",
              "          if (!dataTable) return;\n",
              "\n",
              "          const docLinkHtml = 'Like what you see? Visit the ' +\n",
              "            '<a target=\"_blank\" href=https://colab.research.google.com/notebooks/data_table.ipynb>data table notebook</a>'\n",
              "            + ' to learn more about interactive tables.';\n",
              "          element.innerHTML = '';\n",
              "          dataTable['output_type'] = 'display_data';\n",
              "          await google.colab.output.renderOutput(dataTable, element);\n",
              "          const docLink = document.createElement('div');\n",
              "          docLink.innerHTML = docLinkHtml;\n",
              "          element.appendChild(docLink);\n",
              "        }\n",
              "      </script>\n",
              "    </div>\n",
              "  </div>\n",
              "  "
            ]
          },
          "metadata": {},
          "execution_count": 7
        }
      ]
    },
    {
      "cell_type": "code",
      "source": [
        "plt.figure(figsize=(10,10))\n",
        "sns.heatmap(data.corr())"
      ],
      "metadata": {
        "colab": {
          "base_uri": "https://localhost:8080/",
          "height": 969
        },
        "id": "ArjFsQx-ScC5",
        "outputId": "045f9cb0-432e-4e3a-987c-5749c118787a"
      },
      "execution_count": 8,
      "outputs": [
        {
          "output_type": "execute_result",
          "data": {
            "text/plain": [
              "<Axes: >"
            ]
          },
          "metadata": {},
          "execution_count": 8
        },
        {
          "output_type": "display_data",
          "data": {
            "text/plain": [
              "<Figure size 1000x1000 with 2 Axes>"
            ],
            "image/png": "[encoded data removed]"
          },
          "metadata": {}
        }
      ]
    },
    {
      "cell_type": "code",
      "source": [
        "data['quality'].value_counts()"
      ],
      "metadata": {
        "colab": {
          "base_uri": "https://localhost:8080/"
        },
        "id": "pagKV5KWSiMI",
        "outputId": "e722089d-9997-4d51-aa6c-31cdba2c7f93"
      },
      "execution_count": 9,
      "outputs": [
        {
          "output_type": "execute_result",
          "data": {
            "text/plain": [
              "5    483\n",
              "6    462\n",
              "7    143\n",
              "4     33\n",
              "8     16\n",
              "3      6\n",
              "Name: quality, dtype: int64"
            ]
          },
          "metadata": {},
          "execution_count": 9
        }
      ]
    },
    {
      "cell_type": "code",
      "source": [
        "sns.countplot(data['quality'])"
      ],
      "metadata": {
        "colab": {
          "base_uri": "https://localhost:8080/",
          "height": 452
        },
        "id": "XsCLT40MTove",
        "outputId": "ac25ed1a-52ff-4254-9e1a-6c8959980839"
      },
      "execution_count": 10,
      "outputs": [
        {
          "output_type": "execute_result",
          "data": {
            "text/plain": [
              "<Axes: ylabel='count'>"
            ]
          },
          "metadata": {},
          "execution_count": 10
        },
        {
          "output_type": "display_data",
          "data": {
            "text/plain": [
              "<Figure size 640x480 with 1 Axes>"
            ],
            "image/png": "[encoded data removed]"
          },
          "metadata": {}
        }
      ]
    },
    {
      "cell_type": "code",
      "source": [
        "data.describe()"
      ],
      "metadata": {
        "colab": {
          "base_uri": "https://localhost:8080/",
          "height": 399
        },
        "id": "yTwsqcqxTwJv",
        "outputId": "943133b5-2733-497b-e968-cff2c95246d2"
      },
      "execution_count": 11,
      "outputs": [
        {
          "output_type": "execute_result",
          "data": {
            "text/plain": [
              "       fixed acidity  volatile acidity  citric acid  residual sugar  \\\n",
              "count    1143.000000       1143.000000  1143.000000     1143.000000   \n",
              "mean        8.311111          0.531339     0.268364        2.532152   \n",
              "std         1.747595          0.179633     0.196686        1.355917   \n",
              "min         4.600000          0.120000     0.000000        0.900000   \n",
              "25%         7.100000          0.392500     0.090000        1.900000   \n",
              "50%         7.900000          0.520000     0.250000        2.200000   \n",
              "75%         9.100000          0.640000     0.420000        2.600000   \n",
              "max        15.900000          1.580000     1.000000       15.500000   \n",
              "\n",
              "         chlorides  free sulfur dioxide  total sulfur dioxide      density  \\\n",
              "count  1143.000000          1143.000000           1143.000000  1143.000000   \n",
              "mean      0.086933            15.615486             45.914698     0.996730   \n",
              "std       0.047267            10.250486             32.782130     0.001925   \n",
              "min       0.012000             1.000000              6.000000     0.990070   \n",
              "25%       0.070000             7.000000             21.000000     0.995570   \n",
              "50%       0.079000            13.000000             37.000000     0.996680   \n",
              "75%       0.090000            21.000000             61.000000     0.997845   \n",
              "max       0.611000            68.000000            289.000000     1.003690   \n",
              "\n",
              "                pH    sulphates      alcohol      quality           Id  \n",
              "count  1143.000000  1143.000000  1143.000000  1143.000000  1143.000000  \n",
              "mean      3.311015     0.657708    10.442111     5.657043   804.969379  \n",
              "std       0.156664     0.170399     1.082196     0.805824   463.997116  \n",
              "min       2.740000     0.330000     8.400000     3.000000     0.000000  \n",
              "25%       3.205000     0.550000     9.500000     5.000000   411.000000  \n",
              "50%       3.310000     0.620000    10.200000     6.000000   794.000000  \n",
              "75%       3.400000     0.730000    11.100000     6.000000  1209.500000  \n",
              "max       4.010000     2.000000    14.900000     8.000000  1597.000000  "
            ],
            "text/html": [
              "\n",
              "  <div id=\"df-e7a07689-9d84-41f4-a44d-b9a4296f383a\">\n",
              "    <div class=\"colab-df-container\">\n",
              "      <div>\n",
              "<style scoped>\n",
              "    .dataframe tbody tr th:only-of-type {\n",
              "        vertical-align: middle;\n",
              "    }\n",
              "\n",
              "    .dataframe tbody tr th {\n",
              "        vertical-align: top;\n",
              "    }\n",
              "\n",
              "    .dataframe thead th {\n",
              "        text-align: right;\n",
              "    }\n",
              "</style>\n",
              "<table border=\"1\" class=\"dataframe\">\n",
              "  <thead>\n",
              "    <tr style=\"text-align: right;\">\n",
              "      <th></th>\n",
              "      <th>fixed acidity</th>\n",
              "      <th>volatile acidity</th>\n",
              "      <th>citric acid</th>\n",
              "      <th>residual sugar</th>\n",
              "      <th>chlorides</th>\n",
              "      <th>free sulfur dioxide</th>\n",
              "      <th>total sulfur dioxide</th>\n",
              "      <th>density</th>\n",
              "      <th>pH</th>\n",
              "      <th>sulphates</th>\n",
              "      <th>alcohol</th>\n",
              "      <th>quality</th>\n",
              "      <th>Id</th>\n",
              "    </tr>\n",
              "  </thead>\n",
              "  <tbody>\n",
              "    <tr>\n",
              "      <th>count</th>\n",
              "      <td>1143.000000</td>\n",
              "      <td>1143.000000</td>\n",
              "      <td>1143.000000</td>\n",
              "      <td>1143.000000</td>\n",
              "      <td>1143.000000</td>\n",
              "      <td>1143.000000</td>\n",
              "      <td>1143.000000</td>\n",
              "      <td>1143.000000</td>\n",
              "      <td>1143.000000</td>\n",
              "      <td>1143.000000</td>\n",
              "      <td>1143.000000</td>\n",
              "      <td>1143.000000</td>\n",
              "      <td>1143.000000</td>\n",
              "    </tr>\n",
              "    <tr>\n",
              "      <th>mean</th>\n",
              "      <td>8.311111</td>\n",
              "      <td>0.531339</td>\n",
              "      <td>0.268364</td>\n",
              "      <td>2.532152</td>\n",
              "      <td>0.086933</td>\n",
              "      <td>15.615486</td>\n",
              "      <td>45.914698</td>\n",
              "      <td>0.996730</td>\n",
              "      <td>3.311015</td>\n",
              "      <td>0.657708</td>\n",
              "      <td>10.442111</td>\n",
              "      <td>5.657043</td>\n",
              "      <td>804.969379</td>\n",
              "    </tr>\n",
              "    <tr>\n",
              "      <th>std</th>\n",
              "      <td>1.747595</td>\n",
              "      <td>0.179633</td>\n",
              "      <td>0.196686</td>\n",
              "      <td>1.355917</td>\n",
              "      <td>0.047267</td>\n",
              "      <td>10.250486</td>\n",
              "      <td>32.782130</td>\n",
              "      <td>0.001925</td>\n",
              "      <td>0.156664</td>\n",
              "      <td>0.170399</td>\n",
              "      <td>1.082196</td>\n",
              "      <td>0.805824</td>\n",
              "      <td>463.997116</td>\n",
              "    </tr>\n",
              "    <tr>\n",
              "      <th>min</th>\n",
              "      <td>4.600000</td>\n",
              "      <td>0.120000</td>\n",
              "      <td>0.000000</td>\n",
              "      <td>0.900000</td>\n",
              "      <td>0.012000</td>\n",
              "      <td>1.000000</td>\n",
              "      <td>6.000000</td>\n",
              "      <td>0.990070</td>\n",
              "      <td>2.740000</td>\n",
              "      <td>0.330000</td>\n",
              "      <td>8.400000</td>\n",
              "      <td>3.000000</td>\n",
              "      <td>0.000000</td>\n",
              "    </tr>\n",
              "    <tr>\n",
              "      <th>25%</th>\n",
              "      <td>7.100000</td>\n",
              "      <td>0.392500</td>\n",
              "      <td>0.090000</td>\n",
              "      <td>1.900000</td>\n",
              "      <td>0.070000</td>\n",
              "      <td>7.000000</td>\n",
              "      <td>21.000000</td>\n",
              "      <td>0.995570</td>\n",
              "      <td>3.205000</td>\n",
              "      <td>0.550000</td>\n",
              "      <td>9.500000</td>\n",
              "      <td>5.000000</td>\n",
              "      <td>411.000000</td>\n",
              "    </tr>\n",
              "    <tr>\n",
              "      <th>50%</th>\n",
              "      <td>7.900000</td>\n",
              "      <td>0.520000</td>\n",
              "      <td>0.250000</td>\n",
              "      <td>2.200000</td>\n",
              "      <td>0.079000</td>\n",
              "      <td>13.000000</td>\n",
              "      <td>37.000000</td>\n",
              "      <td>0.996680</td>\n",
              "      <td>3.310000</td>\n",
              "      <td>0.620000</td>\n",
              "      <td>10.200000</td>\n",
              "      <td>6.000000</td>\n",
              "      <td>794.000000</td>\n",
              "    </tr>\n",
              "    <tr>\n",
              "      <th>75%</th>\n",
              "      <td>9.100000</td>\n",
              "      <td>0.640000</td>\n",
              "      <td>0.420000</td>\n",
              "      <td>2.600000</td>\n",
              "      <td>0.090000</td>\n",
              "      <td>21.000000</td>\n",
              "      <td>61.000000</td>\n",
              "      <td>0.997845</td>\n",
              "      <td>3.400000</td>\n",
              "      <td>0.730000</td>\n",
              "      <td>11.100000</td>\n",
              "      <td>6.000000</td>\n",
              "      <td>1209.500000</td>\n",
              "    </tr>\n",
              "    <tr>\n",
              "      <th>max</th>\n",
              "      <td>15.900000</td>\n",
              "      <td>1.580000</td>\n",
              "      <td>1.000000</td>\n",
              "      <td>15.500000</td>\n",
              "      <td>0.611000</td>\n",
              "      <td>68.000000</td>\n",
              "      <td>289.000000</td>\n",
              "      <td>1.003690</td>\n",
              "      <td>4.010000</td>\n",
              "      <td>2.000000</td>\n",
              "      <td>14.900000</td>\n",
              "      <td>8.000000</td>\n",
              "      <td>1597.000000</td>\n",
              "    </tr>\n",
              "  </tbody>\n",
              "</table>\n",
              "</div>\n",
              "      <button class=\"colab-df-convert\" onclick=\"convertToInteractive('df-e7a07689-9d84-41f4-a44d-b9a4296f383a')\"\n",
              "              title=\"Convert this dataframe to an interactive table.\"\n",
              "              style=\"display:none;\">\n",
              "        \n",
              "  <svg xmlns=\"http://www.w3.org/2000/svg\" height=\"24px\"viewBox=\"0 0 24 24\"\n",
              "       width=\"24px\">\n",
              "    <path d=\"M0 0h24v24H0V0z\" fill=\"none\"/>\n",
              "    <path d=\"M18.56 5.44l.94 2.06.94-2.06 2.06-.94-2.06-.94-.94-2.06-.94 2.06-2.06.94zm-11 1L8.5 8.5l.94-2.06 2.06-.94-2.06-.94L8.5 2.5l-.94 2.06-2.06.94zm10 10l.94 2.06.94-2.06 2.06-.94-2.06-.94-.94-2.06-.94 2.06-2.06.94z\"/><path d=\"M17.41 7.96l-1.37-1.37c-.4-.4-.92-.59-1.43-.59-.52 0-1.04.2-1.43.59L10.3 9.45l-7.72 7.72c-.78.78-.78 2.05 0 2.83L4 21.41c.39.39.9.59 1.41.59.51 0 1.02-.2 1.41-.59l7.78-7.78 2.81-2.81c.8-.78.8-2.07 0-2.86zM5.41 20L4 18.59l7.72-7.72 1.47 1.35L5.41 20z\"/>\n",
              "  </svg>\n",
              "      </button>\n",
              "      \n",
              "  <style>\n",
              "    .colab-df-container {\n",
              "      display:flex;\n",
              "      flex-wrap:wrap;\n",
              "      gap: 12px;\n",
              "    }\n",
              "\n",
              "    .colab-df-convert {\n",
              "      background-color: #E8F0FE;\n",
              "      border: none;\n",
              "      border-radius: 50%;\n",
              "      cursor: pointer;\n",
              "      display: none;\n",
              "      fill: #1967D2;\n",
              "      height: 32px;\n",
              "      padding: 0 0 0 0;\n",
              "      width: 32px;\n",
              "    }\n",
              "\n",
              "    .colab-df-convert:hover {\n",
              "      background-color: #E2EBFA;\n",
              "      box-shadow: 0px 1px 2px rgba(60, 64, 67, 0.3), 0px 1px 3px 1px rgba(60, 64, 67, 0.15);\n",
              "      fill: #174EA6;\n",
              "    }\n",
              "\n",
              "    [theme=dark] .colab-df-convert {\n",
              "      background-color: #3B4455;\n",
              "      fill: #D2E3FC;\n",
              "    }\n",
              "\n",
              "    [theme=dark] .colab-df-convert:hover {\n",
              "      background-color: #434B5C;\n",
              "      box-shadow: 0px 1px 3px 1px rgba(0, 0, 0, 0.15);\n",
              "      filter: drop-shadow(0px 1px 2px rgba(0, 0, 0, 0.3));\n",
              "      fill: #FFFFFF;\n",
              "    }\n",
              "  </style>\n",
              "\n",
              "      <script>\n",
              "        const buttonEl =\n",
              "          document.querySelector('#df-e7a07689-9d84-41f4-a44d-b9a4296f383a button.colab-df-convert');\n",
              "        buttonEl.style.display =\n",
              "          google.colab.kernel.accessAllowed ? 'block' : 'none';\n",
              "\n",
              "        async function convertToInteractive(key) {\n",
              "          const element = document.querySelector('#df-e7a07689-9d84-41f4-a44d-b9a4296f383a');\n",
              "          const dataTable =\n",
              "            await google.colab.kernel.invokeFunction('convertToInteractive',\n",
              "                                                     [key], {});\n",
              "          if (!dataTable) return;\n",
              "\n",
              "          const docLinkHtml = 'Like what you see? Visit the ' +\n",
              "            '<a target=\"_blank\" href=https://colab.research.google.com/notebooks/data_table.ipynb>data table notebook</a>'\n",
              "            + ' to learn more about interactive tables.';\n",
              "          element.innerHTML = '';\n",
              "          dataTable['output_type'] = 'display_data';\n",
              "          await google.colab.output.renderOutput(dataTable, element);\n",
              "          const docLink = document.createElement('div');\n",
              "          docLink.innerHTML = docLinkHtml;\n",
              "          element.appendChild(docLink);\n",
              "        }\n",
              "      </script>\n",
              "    </div>\n",
              "  </div>\n",
              "  "
            ]
          },
          "metadata": {},
          "execution_count": 11
        }
      ]
    },
    {
      "cell_type": "code",
      "source": [
        "data.drop(['Id'],axis=1,inplace=True)\n",
        "data.head()"
      ],
      "metadata": {
        "colab": {
          "base_uri": "https://localhost:8080/",
          "height": 267
        },
        "id": "04DLg-_FUJm8",
        "outputId": "70df6150-b649-4a4e-a382-ab538b729e3d"
      },
      "execution_count": 12,
      "outputs": [
        {
          "output_type": "execute_result",
          "data": {
            "text/plain": [
              "   fixed acidity  volatile acidity  citric acid  residual sugar  chlorides  \\\n",
              "0            7.4              0.70         0.00             1.9      0.076   \n",
              "1            7.8              0.88         0.00             2.6      0.098   \n",
              "2            7.8              0.76         0.04             2.3      0.092   \n",
              "3           11.2              0.28         0.56             1.9      0.075   \n",
              "4            7.4              0.70         0.00             1.9      0.076   \n",
              "\n",
              "   free sulfur dioxide  total sulfur dioxide  density    pH  sulphates  \\\n",
              "0                 11.0                  34.0   0.9978  3.51       0.56   \n",
              "1                 25.0                  67.0   0.9968  3.20       0.68   \n",
              "2                 15.0                  54.0   0.9970  3.26       0.65   \n",
              "3                 17.0                  60.0   0.9980  3.16       0.58   \n",
              "4                 11.0                  34.0   0.9978  3.51       0.56   \n",
              "\n",
              "   alcohol  quality  \n",
              "0      9.4        5  \n",
              "1      9.8        5  \n",
              "2      9.8        5  \n",
              "3      9.8        6  \n",
              "4      9.4        5  "
            ],
            "text/html": [
              "\n",
              "  <div id=\"df-77fc2dab-2d8e-4b25-b40f-7c321002f3d8\">\n",
              "    <div class=\"colab-df-container\">\n",
              "      <div>\n",
              "<style scoped>\n",
              "    .dataframe tbody tr th:only-of-type {\n",
              "        vertical-align: middle;\n",
              "    }\n",
              "\n",
              "    .dataframe tbody tr th {\n",
              "        vertical-align: top;\n",
              "    }\n",
              "\n",
              "    .dataframe thead th {\n",
              "        text-align: right;\n",
              "    }\n",
              "</style>\n",
              "<table border=\"1\" class=\"dataframe\">\n",
              "  <thead>\n",
              "    <tr style=\"text-align: right;\">\n",
              "      <th></th>\n",
              "      <th>fixed acidity</th>\n",
              "      <th>volatile acidity</th>\n",
              "      <th>citric acid</th>\n",
              "      <th>residual sugar</th>\n",
              "      <th>chlorides</th>\n",
              "      <th>free sulfur dioxide</th>\n",
              "      <th>total sulfur dioxide</th>\n",
              "      <th>density</th>\n",
              "      <th>pH</th>\n",
              "      <th>sulphates</th>\n",
              "      <th>alcohol</th>\n",
              "      <th>quality</th>\n",
              "    </tr>\n",
              "  </thead>\n",
              "  <tbody>\n",
              "    <tr>\n",
              "      <th>0</th>\n",
              "      <td>7.4</td>\n",
              "      <td>0.70</td>\n",
              "      <td>0.00</td>\n",
              "      <td>1.9</td>\n",
              "      <td>0.076</td>\n",
              "      <td>11.0</td>\n",
              "      <td>34.0</td>\n",
              "      <td>0.9978</td>\n",
              "      <td>3.51</td>\n",
              "      <td>0.56</td>\n",
              "      <td>9.4</td>\n",
              "      <td>5</td>\n",
              "    </tr>\n",
              "    <tr>\n",
              "      <th>1</th>\n",
              "      <td>7.8</td>\n",
              "      <td>0.88</td>\n",
              "      <td>0.00</td>\n",
              "      <td>2.6</td>\n",
              "      <td>0.098</td>\n",
              "      <td>25.0</td>\n",
              "      <td>67.0</td>\n",
              "      <td>0.9968</td>\n",
              "      <td>3.20</td>\n",
              "      <td>0.68</td>\n",
              "      <td>9.8</td>\n",
              "      <td>5</td>\n",
              "    </tr>\n",
              "    <tr>\n",
              "      <th>2</th>\n",
              "      <td>7.8</td>\n",
              "      <td>0.76</td>\n",
              "      <td>0.04</td>\n",
              "      <td>2.3</td>\n",
              "      <td>0.092</td>\n",
              "      <td>15.0</td>\n",
              "      <td>54.0</td>\n",
              "      <td>0.9970</td>\n",
              "      <td>3.26</td>\n",
              "      <td>0.65</td>\n",
              "      <td>9.8</td>\n",
              "      <td>5</td>\n",
              "    </tr>\n",
              "    <tr>\n",
              "      <th>3</th>\n",
              "      <td>11.2</td>\n",
              "      <td>0.28</td>\n",
              "      <td>0.56</td>\n",
              "      <td>1.9</td>\n",
              "      <td>0.075</td>\n",
              "      <td>17.0</td>\n",
              "      <td>60.0</td>\n",
              "      <td>0.9980</td>\n",
              "      <td>3.16</td>\n",
              "      <td>0.58</td>\n",
              "      <td>9.8</td>\n",
              "      <td>6</td>\n",
              "    </tr>\n",
              "    <tr>\n",
              "      <th>4</th>\n",
              "      <td>7.4</td>\n",
              "      <td>0.70</td>\n",
              "      <td>0.00</td>\n",
              "      <td>1.9</td>\n",
              "      <td>0.076</td>\n",
              "      <td>11.0</td>\n",
              "      <td>34.0</td>\n",
              "      <td>0.9978</td>\n",
              "      <td>3.51</td>\n",
              "      <td>0.56</td>\n",
              "      <td>9.4</td>\n",
              "      <td>5</td>\n",
              "    </tr>\n",
              "  </tbody>\n",
              "</table>\n",
              "</div>\n",
              "      <button class=\"colab-df-convert\" onclick=\"convertToInteractive('df-77fc2dab-2d8e-4b25-b40f-7c321002f3d8')\"\n",
              "              title=\"Convert this dataframe to an interactive table.\"\n",
              "              style=\"display:none;\">\n",
              "        \n",
              "  <svg xmlns=\"http://www.w3.org/2000/svg\" height=\"24px\"viewBox=\"0 0 24 24\"\n",
              "       width=\"24px\">\n",
              "    <path d=\"M0 0h24v24H0V0z\" fill=\"none\"/>\n",
              "    <path d=\"M18.56 5.44l.94 2.06.94-2.06 2.06-.94-2.06-.94-.94-2.06-.94 2.06-2.06.94zm-11 1L8.5 8.5l.94-2.06 2.06-.94-2.06-.94L8.5 2.5l-.94 2.06-2.06.94zm10 10l.94 2.06.94-2.06 2.06-.94-2.06-.94-.94-2.06-.94 2.06-2.06.94z\"/><path d=\"M17.41 7.96l-1.37-1.37c-.4-.4-.92-.59-1.43-.59-.52 0-1.04.2-1.43.59L10.3 9.45l-7.72 7.72c-.78.78-.78 2.05 0 2.83L4 21.41c.39.39.9.59 1.41.59.51 0 1.02-.2 1.41-.59l7.78-7.78 2.81-2.81c.8-.78.8-2.07 0-2.86zM5.41 20L4 18.59l7.72-7.72 1.47 1.35L5.41 20z\"/>\n",
              "  </svg>\n",
              "      </button>\n",
              "      \n",
              "  <style>\n",
              "    .colab-df-container {\n",
              "      display:flex;\n",
              "      flex-wrap:wrap;\n",
              "      gap: 12px;\n",
              "    }\n",
              "\n",
              "    .colab-df-convert {\n",
              "      background-color: #E8F0FE;\n",
              "      border: none;\n",
              "      border-radius: 50%;\n",
              "      cursor: pointer;\n",
              "      display: none;\n",
              "      fill: #1967D2;\n",
              "      height: 32px;\n",
              "      padding: 0 0 0 0;\n",
              "      width: 32px;\n",
              "    }\n",
              "\n",
              "    .colab-df-convert:hover {\n",
              "      background-color: #E2EBFA;\n",
              "      box-shadow: 0px 1px 2px rgba(60, 64, 67, 0.3), 0px 1px 3px 1px rgba(60, 64, 67, 0.15);\n",
              "      fill: #174EA6;\n",
              "    }\n",
              "\n",
              "    [theme=dark] .colab-df-convert {\n",
              "      background-color: #3B4455;\n",
              "      fill: #D2E3FC;\n",
              "    }\n",
              "\n",
              "    [theme=dark] .colab-df-convert:hover {\n",
              "      background-color: #434B5C;\n",
              "      box-shadow: 0px 1px 3px 1px rgba(0, 0, 0, 0.15);\n",
              "      filter: drop-shadow(0px 1px 2px rgba(0, 0, 0, 0.3));\n",
              "      fill: #FFFFFF;\n",
              "    }\n",
              "  </style>\n",
              "\n",
              "      <script>\n",
              "        const buttonEl =\n",
              "          document.querySelector('#df-77fc2dab-2d8e-4b25-b40f-7c321002f3d8 button.colab-df-convert');\n",
              "        buttonEl.style.display =\n",
              "          google.colab.kernel.accessAllowed ? 'block' : 'none';\n",
              "\n",
              "        async function convertToInteractive(key) {\n",
              "          const element = document.querySelector('#df-77fc2dab-2d8e-4b25-b40f-7c321002f3d8');\n",
              "          const dataTable =\n",
              "            await google.colab.kernel.invokeFunction('convertToInteractive',\n",
              "                                                     [key], {});\n",
              "          if (!dataTable) return;\n",
              "\n",
              "          const docLinkHtml = 'Like what you see? Visit the ' +\n",
              "            '<a target=\"_blank\" href=https://colab.research.google.com/notebooks/data_table.ipynb>data table notebook</a>'\n",
              "            + ' to learn more about interactive tables.';\n",
              "          element.innerHTML = '';\n",
              "          dataTable['output_type'] = 'display_data';\n",
              "          await google.colab.output.renderOutput(dataTable, element);\n",
              "          const docLink = document.createElement('div');\n",
              "          docLink.innerHTML = docLinkHtml;\n",
              "          element.appendChild(docLink);\n",
              "        }\n",
              "      </script>\n",
              "    </div>\n",
              "  </div>\n",
              "  "
            ]
          },
          "metadata": {},
          "execution_count": 12
        }
      ]
    },
    {
      "cell_type": "code",
      "source": [
        "X = data.iloc[:,:-1]\n",
        "y = data.iloc[:,-1]"
      ],
      "metadata": {
        "id": "HDUpjz3OUU0U"
      },
      "execution_count": 13,
      "outputs": []
    },
    {
      "cell_type": "code",
      "source": [
        "from imblearn.over_sampling import SMOTE\n",
        "sm = SMOTE()\n",
        "X_res, y_res = sm.fit_resample(X,y)"
      ],
      "metadata": {
        "id": "lBJ1C-PNUoog"
      },
      "execution_count": 14,
      "outputs": []
    },
    {
      "cell_type": "code",
      "source": [
        "sns.countplot(y_res)"
      ],
      "metadata": {
        "colab": {
          "base_uri": "https://localhost:8080/",
          "height": 447
        },
        "id": "B-xqUHC8U4fc",
        "outputId": "734210bb-0078-4063-d270-2dccc6dc4c48"
      },
      "execution_count": 15,
      "outputs": [
        {
          "output_type": "execute_result",
          "data": {
            "text/plain": [
              "<Axes: ylabel='count'>"
            ]
          },
          "metadata": {},
          "execution_count": 15
        },
        {
          "output_type": "display_data",
          "data": {
            "text/plain": [
              "<Figure size 640x480 with 1 Axes>"
            ],
            "image/png": "[encoded data removed]"
          },
          "metadata": {}
        }
      ]
    },
    {
      "cell_type": "code",
      "source": [
        "from sklearn.model_selection import  train_test_split\n",
        "X_train,X_test, y_train, y_test = train_test_split(X_res,y_res,test_size=0.3,random_state=12)"
      ],
      "metadata": {
        "id": "FlERxBDBVDNw"
      },
      "execution_count": 16,
      "outputs": []
    },
    {
      "cell_type": "code",
      "source": [
        "from  sklearn.preprocessing import MinMaxScaler\n",
        "scaler = MinMaxScaler()\n",
        "X_train = scaler.fit_transform(X_train)\n",
        "X_test = scaler.fit_transform(X_test)"
      ],
      "metadata": {
        "id": "OE2YzEugVYre"
      },
      "execution_count": 17,
      "outputs": []
    },
    {
      "cell_type": "code",
      "source": [
        "from sklearn.neighbors import KNeighborsClassifier\n",
        "from sklearn.naive_bayes import GaussianNB\n",
        "from sklearn.svm import SVC\n",
        "from sklearn.ensemble import RandomForestClassifier\n",
        "classifier1 = KNeighborsClassifier(n_neighbors=7)\n",
        "classifier2 = GaussianNB()\n",
        "classifier3 = SVC()\n",
        "classifier4 = RandomForestClassifier(n_estimators=20)\n",
        "\n",
        "from sklearn.metrics import classification_report"
      ],
      "metadata": {
        "id": "IHgD4KSUVqme"
      },
      "execution_count": 18,
      "outputs": []
    },
    {
      "cell_type": "markdown",
      "source": [
        "#KNN"
      ],
      "metadata": {
        "id": "pXgSXEWTXG2G"
      }
    },
    {
      "cell_type": "code",
      "source": [
        "classifier1.fit(X_train,y_train)\n",
        "y_pred1=classifier1.predict(X_test)\n",
        "y_pred1"
      ],
      "metadata": {
        "colab": {
          "base_uri": "https://localhost:8080/"
        },
        "id": "b6M-bWqJV1a7",
        "outputId": "04934c7c-edad-4de0-c4a9-dc1c8c7fe43b"
      },
      "execution_count": 19,
      "outputs": [
        {
          "output_type": "execute_result",
          "data": {
            "text/plain": [
              "array([8, 4, 7, 4, 4, 8, 6, 8, 3, 5, 7, 6, 8, 5, 3, 7, 5, 3, 8, 3, 5, 7,\n",
              "       7, 8, 8, 8, 4, 7, 3, 3, 8, 5, 6, 6, 7, 3, 6, 4, 7, 8, 3, 3, 6, 3,\n",
              "       3, 3, 7, 7, 4, 7, 5, 8, 8, 4, 4, 7, 4, 5, 7, 4, 7, 4, 8, 6, 4, 6,\n",
              "       5, 5, 4, 6, 3, 6, 7, 7, 3, 5, 7, 5, 3, 4, 8, 3, 6, 3, 6, 7, 3, 3,\n",
              "       7, 6, 8, 5, 8, 4, 3, 6, 5, 4, 4, 8, 3, 8, 7, 7, 5, 7, 3, 3, 5, 5,\n",
              "       7, 3, 3, 3, 3, 7, 4, 6, 7, 3, 7, 4, 8, 8, 8, 8, 5, 3, 5, 3, 5, 4,\n",
              "       4, 6, 5, 8, 4, 3, 7, 4, 3, 6, 3, 4, 7, 3, 5, 7, 5, 4, 8, 4, 4, 6,\n",
              "       4, 3, 4, 8, 7, 3, 8, 7, 7, 3, 3, 5, 3, 8, 4, 8, 4, 5, 8, 8, 3, 7,\n",
              "       3, 5, 4, 3, 6, 4, 5, 7, 6, 8, 5, 8, 3, 8, 4, 8, 8, 7, 6, 3, 7, 4,\n",
              "       4, 8, 8, 5, 6, 6, 6, 5, 8, 4, 5, 8, 7, 7, 7, 8, 3, 8, 4, 5, 8, 7,\n",
              "       3, 3, 4, 8, 4, 8, 4, 4, 3, 4, 8, 3, 3, 4, 8, 5, 5, 7, 4, 8, 6, 8,\n",
              "       3, 6, 4, 3, 3, 6, 8, 6, 4, 7, 3, 7, 4, 3, 7, 5, 7, 4, 8, 8, 4, 8,\n",
              "       4, 4, 3, 3, 4, 5, 3, 3, 3, 4, 4, 8, 6, 3, 4, 4, 7, 7, 5, 7, 7, 7,\n",
              "       3, 3, 8, 5, 4, 4, 5, 5, 4, 6, 7, 6, 3, 4, 7, 6, 8, 6, 3, 8, 8, 8,\n",
              "       4, 4, 6, 3, 3, 5, 3, 8, 8, 7, 5, 7, 4, 3, 7, 8, 4, 3, 5, 4, 4, 7,\n",
              "       7, 8, 5, 7, 8, 5, 4, 4, 7, 3, 4, 6, 8, 3, 3, 4, 7, 6, 4, 7, 3, 5,\n",
              "       4, 5, 7, 3, 6, 5, 3, 4, 7, 7, 5, 3, 8, 4, 4, 8, 3, 7, 4, 8, 7, 7,\n",
              "       3, 3, 5, 8, 6, 8, 6, 3, 4, 6, 8, 3, 7, 3, 3, 4, 4, 3, 4, 5, 8, 3,\n",
              "       4, 5, 6, 4, 8, 6, 3, 3, 3, 8, 3, 3, 8, 4, 4, 4, 3, 4, 5, 7, 7, 6,\n",
              "       3, 7, 4, 5, 4, 3, 3, 5, 5, 7, 7, 3, 3, 4, 3, 4, 8, 3, 8, 8, 3, 3,\n",
              "       7, 6, 7, 4, 4, 4, 4, 3, 5, 8, 8, 5, 8, 8, 8, 8, 8, 7, 4, 5, 7, 3,\n",
              "       7, 4, 3, 4, 4, 8, 5, 3, 6, 8, 5, 8, 3, 7, 6, 3, 4, 7, 5, 4, 4, 4,\n",
              "       5, 7, 3, 3, 4, 5, 5, 7, 7, 4, 3, 5, 4, 3, 6, 7, 8, 7, 7, 7, 7, 6,\n",
              "       5, 7, 3, 4, 4, 7, 5, 8, 7, 7, 7, 7, 7, 3, 4, 5, 5, 3, 3, 6, 4, 6,\n",
              "       4, 8, 6, 7, 8, 8, 4, 7, 8, 3, 7, 8, 4, 8, 3, 8, 3, 7, 4, 8, 4, 8,\n",
              "       7, 7, 7, 4, 6, 3, 4, 4, 4, 4, 3, 5, 3, 6, 3, 7, 7, 8, 4, 3, 3, 3,\n",
              "       8, 4, 4, 3, 8, 3, 7, 7, 8, 6, 4, 7, 7, 5, 4, 8, 3, 4, 7, 7, 7, 8,\n",
              "       3, 4, 6, 5, 3, 3, 7, 8, 7, 8, 8, 8, 6, 5, 3, 4, 3, 4, 3, 8, 7, 3,\n",
              "       8, 6, 7, 5, 5, 3, 8, 8, 3, 3, 8, 7, 8, 3, 3, 5, 4, 5, 5, 5, 7, 4,\n",
              "       3, 7, 7, 4, 4, 4, 8, 4, 4, 4, 5, 4, 3, 8, 3, 5, 8, 4, 7, 4, 4, 8,\n",
              "       7, 4, 4, 5, 8, 7, 7, 4, 8, 5, 3, 8, 5, 3, 8, 5, 6, 4, 6, 6, 5, 3,\n",
              "       7, 7, 8, 3, 6, 7, 6, 8, 4, 3, 3, 3, 4, 7, 3, 3, 5, 7, 4, 3, 8, 7,\n",
              "       5, 8, 7, 4, 8, 3, 3, 8, 4, 3, 3, 3, 5, 8, 7, 5, 8, 8, 8, 8, 7, 5,\n",
              "       5, 6, 4, 7, 3, 7, 4, 6, 4, 8, 4, 5, 8, 7, 7, 7, 8, 3, 8, 7, 5, 6,\n",
              "       7, 7, 8, 3, 5, 3, 5, 3, 5, 7, 8, 4, 7, 4, 4, 8, 4, 5, 3, 5, 5, 4,\n",
              "       3, 3, 4, 7, 5, 4, 3, 7, 7, 8, 4, 3, 5, 7, 5, 7, 7, 6, 5, 5, 7, 3,\n",
              "       4, 5, 7, 4, 8, 7, 7, 3, 3, 6, 3, 6, 5, 8, 3, 8, 5, 4, 3, 8, 5, 7,\n",
              "       8, 6, 3, 8, 4, 5, 5, 4, 5, 7, 6, 4, 4, 5, 4, 7, 3, 8, 3, 6, 4, 4,\n",
              "       7, 4, 4, 5, 4, 8, 6, 4, 5, 3, 7, 7, 3, 4, 8, 4, 5, 8, 7, 3, 4, 4,\n",
              "       8, 5, 3, 4, 3, 5, 3, 3, 8, 7, 3, 8])"
            ]
          },
          "metadata": {},
          "execution_count": 19
        }
      ]
    },
    {
      "cell_type": "code",
      "source": [
        "print(\"classification Report: \\n\",classification_report(y_test,y_pred1))"
      ],
      "metadata": {
        "colab": {
          "base_uri": "https://localhost:8080/"
        },
        "id": "a2_abriEV4dY",
        "outputId": "e6b4aad6-7d48-4c9a-b415-8c185fcde9a5"
      },
      "execution_count": 20,
      "outputs": [
        {
          "output_type": "stream",
          "name": "stdout",
          "text": [
            "classification Report: \n",
            "               precision    recall  f1-score   support\n",
            "\n",
            "           3       0.85      1.00      0.92       157\n",
            "           4       0.75      0.89      0.81       153\n",
            "           5       0.62      0.54      0.58       134\n",
            "           6       0.60      0.31      0.41       137\n",
            "           7       0.73      0.77      0.75       151\n",
            "           8       0.86      0.96      0.91       138\n",
            "\n",
            "    accuracy                           0.76       870\n",
            "   macro avg       0.74      0.75      0.73       870\n",
            "weighted avg       0.74      0.76      0.74       870\n",
            "\n"
          ]
        }
      ]
    },
    {
      "cell_type": "markdown",
      "source": [
        "#Naivebayes"
      ],
      "metadata": {
        "id": "czIk8RqGXImM"
      }
    },
    {
      "cell_type": "code",
      "source": [
        "classifier2.fit(X_train,y_train)\n",
        "y_pred2 = classifier2.predict(X_test)\n",
        "y_pred2"
      ],
      "metadata": {
        "colab": {
          "base_uri": "https://localhost:8080/"
        },
        "id": "osxZKHmIV74Y",
        "outputId": "341216c3-537c-4a3e-a3f7-759f9354aa78"
      },
      "execution_count": 21,
      "outputs": [
        {
          "output_type": "execute_result",
          "data": {
            "text/plain": [
              "array([7, 5, 8, 6, 6, 8, 6, 8, 3, 3, 7, 5, 8, 5, 3, 7, 4, 3, 8, 3, 3, 8,\n",
              "       7, 8, 8, 8, 4, 8, 4, 3, 8, 5, 7, 5, 7, 3, 6, 5, 8, 7, 3, 3, 7, 4,\n",
              "       3, 3, 7, 7, 4, 6, 5, 7, 8, 5, 4, 7, 5, 4, 7, 5, 7, 4, 8, 5, 3, 7,\n",
              "       5, 5, 3, 6, 3, 6, 7, 7, 3, 5, 8, 5, 3, 3, 7, 3, 7, 3, 4, 6, 3, 3,\n",
              "       6, 3, 8, 4, 8, 5, 3, 7, 5, 4, 5, 8, 3, 8, 7, 8, 5, 7, 3, 3, 5, 5,\n",
              "       8, 3, 3, 3, 4, 7, 6, 5, 8, 3, 7, 3, 8, 8, 8, 8, 4, 3, 3, 5, 5, 5,\n",
              "       6, 3, 5, 8, 5, 3, 5, 5, 3, 5, 3, 4, 7, 3, 5, 8, 4, 5, 8, 4, 4, 5,\n",
              "       4, 3, 5, 8, 8, 3, 8, 7, 7, 4, 3, 3, 3, 8, 3, 7, 5, 5, 6, 8, 3, 8,\n",
              "       3, 4, 4, 3, 5, 3, 5, 7, 6, 8, 3, 6, 3, 8, 4, 7, 8, 7, 3, 3, 7, 4,\n",
              "       3, 8, 7, 3, 5, 5, 3, 4, 7, 3, 5, 8, 8, 8, 4, 8, 3, 8, 4, 3, 8, 7,\n",
              "       4, 3, 5, 8, 5, 8, 7, 4, 3, 5, 8, 4, 3, 4, 8, 5, 5, 7, 7, 8, 5, 8,\n",
              "       3, 5, 3, 3, 3, 5, 6, 7, 6, 6, 4, 8, 4, 3, 8, 5, 7, 5, 8, 8, 5, 8,\n",
              "       4, 6, 4, 3, 3, 5, 3, 3, 3, 5, 4, 8, 8, 3, 4, 6, 7, 6, 6, 8, 8, 8,\n",
              "       3, 3, 8, 3, 3, 3, 5, 3, 5, 5, 7, 4, 3, 3, 8, 7, 7, 5, 3, 7, 8, 8,\n",
              "       7, 4, 5, 3, 3, 6, 3, 8, 6, 6, 6, 7, 5, 3, 6, 7, 4, 3, 5, 3, 5, 6,\n",
              "       8, 8, 5, 7, 8, 3, 7, 4, 7, 3, 7, 4, 7, 3, 3, 5, 7, 7, 6, 5, 3, 6,\n",
              "       3, 5, 7, 3, 5, 3, 3, 4, 7, 7, 5, 3, 8, 7, 3, 7, 3, 7, 6, 8, 8, 7,\n",
              "       3, 3, 5, 8, 7, 6, 6, 3, 3, 5, 8, 3, 8, 4, 3, 4, 4, 3, 4, 5, 7, 3,\n",
              "       3, 3, 5, 3, 8, 3, 3, 3, 3, 7, 3, 3, 8, 4, 5, 3, 3, 3, 4, 7, 5, 8,\n",
              "       3, 7, 3, 5, 5, 3, 3, 6, 5, 7, 8, 3, 4, 5, 5, 3, 8, 3, 8, 8, 3, 3,\n",
              "       7, 3, 8, 3, 3, 4, 5, 5, 3, 6, 8, 6, 8, 7, 8, 8, 8, 8, 4, 5, 7, 3,\n",
              "       5, 4, 3, 3, 7, 8, 5, 3, 5, 8, 4, 8, 3, 8, 7, 3, 3, 7, 5, 5, 5, 4,\n",
              "       5, 8, 3, 3, 4, 8, 6, 8, 6, 4, 3, 5, 3, 3, 7, 7, 8, 8, 7, 8, 7, 6,\n",
              "       4, 7, 3, 3, 4, 7, 3, 8, 7, 8, 7, 6, 7, 3, 4, 3, 5, 4, 3, 6, 5, 3,\n",
              "       5, 8, 6, 6, 8, 8, 5, 7, 8, 3, 7, 8, 3, 8, 3, 8, 3, 8, 3, 8, 3, 6,\n",
              "       8, 7, 6, 5, 5, 3, 4, 3, 3, 6, 3, 6, 3, 5, 3, 8, 7, 8, 3, 3, 3, 3,\n",
              "       8, 3, 3, 3, 8, 3, 4, 8, 8, 5, 3, 8, 5, 6, 4, 8, 3, 4, 7, 6, 7, 8,\n",
              "       3, 3, 6, 6, 3, 3, 5, 8, 8, 8, 8, 8, 5, 4, 3, 3, 3, 4, 4, 8, 8, 3,\n",
              "       8, 6, 8, 5, 5, 3, 8, 7, 6, 3, 8, 7, 8, 3, 3, 5, 3, 5, 3, 3, 8, 5,\n",
              "       3, 6, 7, 5, 3, 3, 8, 5, 5, 6, 3, 5, 3, 7, 3, 3, 8, 5, 7, 3, 6, 8,\n",
              "       7, 4, 3, 5, 8, 7, 7, 3, 7, 3, 6, 7, 5, 3, 8, 8, 7, 5, 6, 6, 5, 3,\n",
              "       6, 7, 8, 3, 8, 6, 5, 7, 3, 4, 3, 3, 6, 5, 3, 3, 5, 8, 4, 3, 7, 8,\n",
              "       6, 8, 6, 3, 8, 3, 3, 8, 8, 3, 3, 3, 5, 8, 7, 5, 6, 8, 8, 6, 6, 7,\n",
              "       5, 6, 5, 8, 3, 7, 6, 3, 6, 8, 3, 4, 8, 6, 7, 8, 7, 3, 8, 6, 6, 7,\n",
              "       8, 8, 8, 3, 5, 3, 5, 3, 5, 8, 7, 5, 7, 4, 4, 8, 4, 5, 3, 4, 5, 3,\n",
              "       3, 3, 3, 7, 4, 4, 3, 7, 7, 8, 6, 3, 5, 7, 5, 4, 7, 5, 3, 5, 8, 3,\n",
              "       4, 5, 6, 6, 7, 7, 7, 3, 3, 3, 3, 6, 3, 8, 5, 7, 3, 3, 3, 8, 6, 7,\n",
              "       8, 6, 3, 8, 5, 5, 5, 3, 4, 8, 7, 3, 4, 5, 3, 8, 4, 8, 3, 6, 5, 5,\n",
              "       7, 3, 5, 3, 4, 8, 5, 3, 8, 3, 7, 8, 3, 3, 8, 3, 4, 7, 7, 3, 5, 3,\n",
              "       8, 4, 3, 4, 3, 5, 3, 3, 7, 7, 3, 8])"
            ]
          },
          "metadata": {},
          "execution_count": 21
        }
      ]
    },
    {
      "cell_type": "code",
      "source": [
        "print(\"classification Report: \\n\",classification_report(y_test,y_pred2))"
      ],
      "metadata": {
        "colab": {
          "base_uri": "https://localhost:8080/"
        },
        "id": "iqaEUQ6TWBcK",
        "outputId": "9e40379b-77b6-4996-e8ca-1b923846c82c"
      },
      "execution_count": 22,
      "outputs": [
        {
          "output_type": "stream",
          "name": "stdout",
          "text": [
            "classification Report: \n",
            "               precision    recall  f1-score   support\n",
            "\n",
            "           3       0.55      0.91      0.69       157\n",
            "           4       0.55      0.31      0.39       153\n",
            "           5       0.38      0.40      0.39       134\n",
            "           6       0.38      0.22      0.28       137\n",
            "           7       0.49      0.42      0.45       151\n",
            "           8       0.61      0.78      0.68       138\n",
            "\n",
            "    accuracy                           0.51       870\n",
            "   macro avg       0.49      0.51      0.48       870\n",
            "weighted avg       0.50      0.51      0.48       870\n",
            "\n"
          ]
        }
      ]
    },
    {
      "cell_type": "markdown",
      "source": [
        "#SVM"
      ],
      "metadata": {
        "id": "gH_Luy5pXKxE"
      }
    },
    {
      "cell_type": "code",
      "source": [
        "classifier3.fit(X_train,y_train)\n",
        "y_pred3 = classifier3.predict(X_test)\n",
        "y_pred3"
      ],
      "metadata": {
        "colab": {
          "base_uri": "https://localhost:8080/"
        },
        "id": "G_807nM5WD7r",
        "outputId": "fa0d4775-50f6-403b-a240-5f82208bb138"
      },
      "execution_count": 23,
      "outputs": [
        {
          "output_type": "execute_result",
          "data": {
            "text/plain": [
              "array([8, 4, 7, 5, 4, 8, 6, 8, 3, 4, 6, 6, 8, 5, 3, 7, 6, 3, 8, 3, 5, 7,\n",
              "       7, 7, 8, 8, 4, 7, 3, 3, 8, 5, 6, 6, 7, 3, 6, 4, 7, 8, 3, 3, 8, 3,\n",
              "       3, 3, 7, 7, 4, 6, 5, 7, 8, 4, 4, 7, 4, 6, 7, 6, 8, 4, 8, 5, 4, 7,\n",
              "       5, 5, 4, 6, 3, 6, 8, 7, 3, 5, 8, 5, 3, 4, 8, 3, 5, 3, 6, 6, 3, 3,\n",
              "       4, 6, 7, 4, 7, 4, 3, 6, 5, 4, 4, 8, 3, 8, 7, 7, 5, 7, 3, 3, 5, 5,\n",
              "       8, 3, 3, 3, 3, 7, 4, 6, 7, 3, 7, 4, 8, 8, 8, 7, 5, 3, 5, 3, 5, 5,\n",
              "       4, 5, 5, 8, 4, 3, 6, 5, 3, 6, 3, 4, 7, 3, 5, 7, 3, 5, 8, 3, 4, 6,\n",
              "       4, 3, 5, 8, 8, 3, 8, 7, 6, 3, 3, 5, 3, 8, 4, 8, 5, 5, 8, 7, 3, 7,\n",
              "       3, 5, 4, 3, 5, 4, 5, 7, 6, 8, 5, 8, 3, 8, 3, 8, 8, 8, 4, 3, 7, 4,\n",
              "       3, 8, 7, 5, 5, 5, 5, 4, 8, 4, 5, 8, 7, 7, 7, 8, 3, 8, 4, 4, 8, 7,\n",
              "       3, 3, 5, 8, 4, 8, 4, 4, 3, 5, 8, 3, 3, 3, 8, 5, 3, 7, 7, 8, 6, 8,\n",
              "       4, 5, 4, 3, 3, 7, 8, 7, 5, 6, 3, 7, 4, 3, 7, 5, 7, 4, 8, 8, 5, 8,\n",
              "       4, 4, 3, 3, 4, 5, 3, 3, 3, 4, 4, 8, 6, 3, 3, 6, 7, 6, 6, 7, 7, 7,\n",
              "       3, 3, 8, 4, 4, 4, 5, 4, 4, 7, 7, 3, 3, 4, 6, 7, 8, 5, 3, 7, 8, 8,\n",
              "       7, 3, 6, 3, 4, 6, 3, 8, 8, 7, 6, 7, 5, 3, 6, 7, 4, 3, 5, 3, 5, 7,\n",
              "       7, 8, 5, 6, 8, 4, 6, 4, 7, 3, 4, 5, 8, 4, 3, 4, 7, 7, 4, 6, 3, 6,\n",
              "       4, 5, 7, 3, 6, 5, 3, 4, 7, 7, 5, 3, 8, 4, 4, 8, 3, 7, 4, 8, 7, 7,\n",
              "       5, 3, 5, 8, 7, 8, 6, 3, 4, 5, 8, 3, 8, 3, 3, 3, 5, 3, 4, 5, 8, 3,\n",
              "       4, 5, 6, 4, 8, 3, 3, 3, 4, 8, 3, 3, 8, 6, 4, 4, 3, 4, 6, 7, 6, 7,\n",
              "       3, 7, 3, 5, 4, 3, 4, 5, 5, 7, 7, 3, 3, 5, 5, 4, 8, 3, 8, 8, 3, 3,\n",
              "       7, 5, 7, 3, 3, 4, 5, 4, 5, 8, 8, 5, 7, 8, 7, 8, 8, 7, 4, 5, 6, 3,\n",
              "       6, 4, 3, 5, 4, 8, 5, 3, 5, 8, 4, 7, 3, 7, 5, 4, 5, 7, 5, 5, 5, 3,\n",
              "       5, 7, 3, 3, 3, 6, 5, 7, 6, 4, 3, 5, 4, 3, 7, 7, 8, 7, 7, 7, 7, 6,\n",
              "       5, 7, 3, 4, 4, 7, 5, 8, 7, 6, 6, 7, 7, 3, 4, 5, 5, 3, 3, 6, 6, 6,\n",
              "       4, 8, 5, 6, 8, 8, 6, 7, 8, 3, 7, 8, 5, 8, 3, 7, 3, 8, 4, 8, 4, 8,\n",
              "       7, 7, 6, 4, 6, 3, 3, 3, 3, 4, 3, 6, 3, 6, 3, 8, 7, 8, 4, 3, 3, 3,\n",
              "       8, 3, 3, 3, 7, 3, 7, 7, 8, 6, 4, 7, 7, 6, 4, 8, 3, 4, 7, 7, 7, 8,\n",
              "       4, 4, 6, 5, 3, 3, 6, 8, 7, 8, 8, 8, 6, 5, 3, 4, 3, 4, 3, 8, 8, 3,\n",
              "       8, 6, 7, 5, 5, 3, 8, 8, 5, 3, 7, 8, 8, 3, 3, 5, 4, 5, 5, 5, 7, 5,\n",
              "       3, 6, 7, 5, 4, 4, 8, 5, 5, 4, 3, 5, 3, 8, 3, 4, 8, 4, 7, 4, 6, 8,\n",
              "       7, 5, 4, 5, 8, 8, 7, 4, 8, 4, 3, 8, 5, 3, 8, 6, 6, 5, 7, 5, 5, 3,\n",
              "       6, 7, 8, 3, 6, 7, 5, 8, 5, 3, 3, 3, 4, 6, 3, 3, 5, 7, 4, 3, 8, 7,\n",
              "       5, 8, 6, 4, 8, 3, 3, 8, 7, 3, 5, 3, 5, 8, 7, 5, 6, 8, 8, 8, 7, 6,\n",
              "       5, 5, 5, 8, 3, 7, 4, 6, 6, 8, 4, 5, 8, 6, 7, 8, 7, 3, 8, 7, 6, 8,\n",
              "       7, 7, 7, 3, 5, 3, 5, 3, 5, 7, 8, 4, 7, 4, 4, 8, 4, 5, 3, 4, 5, 4,\n",
              "       3, 3, 4, 7, 5, 4, 4, 7, 7, 8, 4, 3, 5, 7, 5, 6, 7, 6, 4, 5, 7, 3,\n",
              "       3, 5, 7, 6, 8, 7, 7, 3, 3, 6, 3, 6, 5, 8, 3, 8, 5, 3, 3, 8, 6, 7,\n",
              "       8, 6, 3, 8, 6, 5, 5, 4, 5, 7, 7, 4, 3, 5, 4, 8, 3, 8, 3, 6, 4, 4,\n",
              "       7, 4, 4, 5, 4, 7, 6, 4, 5, 3, 7, 7, 3, 4, 8, 4, 3, 8, 8, 3, 6, 4,\n",
              "       8, 5, 3, 4, 5, 5, 3, 3, 7, 7, 3, 8])"
            ]
          },
          "metadata": {},
          "execution_count": 23
        }
      ]
    },
    {
      "cell_type": "code",
      "source": [
        "print(\"classification Report: \\n\",classification_report(y_test,y_pred3))"
      ],
      "metadata": {
        "colab": {
          "base_uri": "https://localhost:8080/"
        },
        "id": "WGjNFbhnWfAL",
        "outputId": "bbf376a7-6bf6-49f5-da57-0edba8f8f925"
      },
      "execution_count": 24,
      "outputs": [
        {
          "output_type": "stream",
          "name": "stdout",
          "text": [
            "classification Report: \n",
            "               precision    recall  f1-score   support\n",
            "\n",
            "           3       0.79      1.00      0.88       157\n",
            "           4       0.75      0.69      0.72       153\n",
            "           5       0.49      0.51      0.50       134\n",
            "           6       0.48      0.31      0.38       137\n",
            "           7       0.67      0.66      0.66       151\n",
            "           8       0.81      0.89      0.85       138\n",
            "\n",
            "    accuracy                           0.69       870\n",
            "   macro avg       0.66      0.68      0.67       870\n",
            "weighted avg       0.67      0.69      0.67       870\n",
            "\n"
          ]
        }
      ]
    },
    {
      "cell_type": "markdown",
      "source": [
        "#RandomForest"
      ],
      "metadata": {
        "id": "ME8v12i6XOw6"
      }
    },
    {
      "cell_type": "code",
      "source": [
        "classifier4.fit(X_train,y_train)\n",
        "y_pred4 = classifier4.predict(X_test)\n",
        "y_pred4"
      ],
      "metadata": {
        "colab": {
          "base_uri": "https://localhost:8080/"
        },
        "id": "y3sgW6ueWvMe",
        "outputId": "126c1daa-c9ad-4d82-f82e-c69e03c66359"
      },
      "execution_count": 25,
      "outputs": [
        {
          "output_type": "execute_result",
          "data": {
            "text/plain": [
              "array([7, 4, 7, 5, 7, 7, 6, 8, 3, 5, 7, 6, 8, 5, 3, 6, 6, 3, 8, 3, 6, 7,\n",
              "       7, 8, 8, 6, 4, 7, 3, 3, 8, 5, 6, 6, 7, 3, 6, 4, 6, 8, 3, 3, 6, 3,\n",
              "       3, 3, 7, 5, 4, 6, 5, 8, 8, 4, 4, 7, 4, 5, 7, 7, 7, 4, 8, 5, 6, 6,\n",
              "       5, 5, 4, 6, 3, 6, 7, 7, 3, 5, 7, 5, 3, 4, 8, 3, 6, 3, 6, 5, 4, 3,\n",
              "       5, 6, 7, 4, 7, 4, 3, 7, 6, 4, 4, 8, 3, 7, 7, 7, 4, 6, 3, 3, 5, 5,\n",
              "       7, 3, 3, 3, 3, 7, 6, 5, 7, 3, 7, 3, 8, 8, 8, 7, 4, 3, 5, 3, 5, 5,\n",
              "       4, 6, 5, 8, 4, 3, 6, 4, 3, 6, 3, 4, 7, 3, 5, 7, 6, 5, 8, 4, 5, 7,\n",
              "       4, 3, 5, 8, 8, 3, 8, 7, 7, 3, 3, 5, 3, 8, 4, 7, 6, 4, 8, 7, 3, 7,\n",
              "       3, 5, 4, 3, 5, 4, 5, 7, 6, 7, 5, 7, 3, 8, 4, 7, 8, 7, 6, 3, 6, 4,\n",
              "       4, 8, 7, 6, 6, 6, 6, 4, 7, 4, 5, 8, 7, 7, 7, 8, 3, 7, 4, 5, 8, 7,\n",
              "       3, 3, 4, 8, 4, 8, 4, 4, 3, 5, 8, 3, 3, 5, 6, 5, 4, 7, 6, 8, 6, 8,\n",
              "       5, 5, 5, 3, 3, 7, 8, 6, 5, 5, 3, 7, 4, 3, 7, 5, 7, 4, 8, 8, 5, 8,\n",
              "       6, 4, 5, 3, 4, 5, 3, 5, 3, 4, 4, 6, 6, 5, 4, 6, 5, 7, 5, 7, 7, 7,\n",
              "       3, 3, 8, 5, 4, 4, 5, 4, 4, 7, 7, 6, 3, 3, 6, 6, 6, 6, 3, 8, 8, 7,\n",
              "       7, 4, 6, 3, 4, 6, 3, 8, 8, 6, 5, 7, 4, 3, 6, 7, 4, 3, 5, 4, 5, 7,\n",
              "       7, 7, 5, 6, 8, 5, 6, 4, 7, 3, 6, 5, 8, 4, 3, 4, 7, 6, 4, 6, 3, 5,\n",
              "       4, 5, 7, 3, 5, 6, 3, 4, 7, 6, 6, 3, 8, 4, 4, 7, 3, 7, 4, 8, 7, 7,\n",
              "       3, 3, 5, 8, 6, 8, 6, 3, 4, 6, 8, 3, 8, 3, 4, 4, 4, 3, 4, 5, 8, 3,\n",
              "       4, 5, 7, 4, 8, 3, 3, 3, 3, 8, 3, 3, 8, 4, 4, 4, 3, 3, 6, 6, 6, 8,\n",
              "       3, 6, 4, 5, 4, 3, 4, 5, 5, 7, 7, 3, 3, 4, 6, 4, 8, 3, 8, 8, 3, 3,\n",
              "       7, 5, 7, 4, 4, 6, 4, 5, 6, 8, 8, 6, 7, 7, 7, 8, 8, 7, 4, 5, 7, 3,\n",
              "       6, 4, 3, 5, 4, 6, 5, 3, 5, 8, 5, 8, 3, 6, 5, 6, 6, 7, 5, 4, 4, 4,\n",
              "       5, 7, 3, 3, 4, 6, 5, 7, 7, 4, 3, 5, 4, 3, 7, 7, 8, 7, 7, 7, 7, 6,\n",
              "       4, 7, 3, 4, 4, 7, 5, 6, 7, 7, 5, 7, 7, 3, 6, 5, 5, 3, 3, 5, 5, 6,\n",
              "       7, 7, 5, 7, 8, 8, 5, 7, 8, 3, 7, 8, 6, 8, 3, 7, 3, 7, 4, 8, 5, 8,\n",
              "       7, 7, 6, 4, 6, 3, 4, 5, 4, 4, 3, 5, 3, 6, 3, 7, 7, 7, 4, 3, 3, 3,\n",
              "       8, 4, 4, 3, 7, 3, 7, 7, 8, 5, 6, 7, 7, 6, 4, 8, 3, 4, 6, 7, 4, 8,\n",
              "       4, 4, 6, 5, 3, 3, 7, 8, 5, 8, 8, 8, 6, 5, 3, 4, 3, 4, 3, 8, 7, 3,\n",
              "       8, 7, 7, 5, 5, 3, 8, 8, 6, 3, 8, 6, 8, 4, 3, 5, 4, 4, 5, 5, 7, 4,\n",
              "       5, 6, 7, 4, 4, 4, 8, 4, 4, 4, 6, 4, 3, 8, 3, 5, 8, 4, 7, 3, 4, 7,\n",
              "       7, 4, 4, 5, 8, 6, 6, 4, 8, 5, 5, 7, 5, 3, 8, 6, 6, 5, 7, 6, 5, 3,\n",
              "       7, 7, 8, 3, 6, 7, 5, 7, 4, 3, 3, 3, 5, 6, 5, 3, 5, 7, 6, 3, 7, 7,\n",
              "       7, 7, 7, 4, 8, 3, 5, 8, 7, 3, 3, 3, 5, 8, 6, 5, 6, 7, 8, 8, 7, 5,\n",
              "       4, 6, 6, 7, 3, 6, 4, 6, 5, 8, 5, 6, 8, 7, 7, 6, 7, 3, 8, 7, 5, 6,\n",
              "       7, 6, 7, 3, 5, 3, 5, 3, 5, 7, 8, 4, 7, 4, 4, 8, 5, 4, 3, 4, 5, 3,\n",
              "       3, 3, 3, 7, 4, 4, 4, 7, 7, 8, 4, 3, 5, 7, 5, 6, 6, 7, 5, 5, 7, 3,\n",
              "       4, 5, 7, 6, 8, 7, 7, 3, 3, 6, 3, 6, 6, 8, 3, 8, 6, 4, 3, 8, 6, 7,\n",
              "       8, 6, 3, 8, 7, 5, 6, 4, 5, 7, 6, 6, 4, 5, 3, 7, 6, 8, 3, 6, 4, 4,\n",
              "       6, 4, 4, 6, 4, 7, 6, 6, 6, 3, 7, 7, 4, 6, 8, 4, 5, 8, 7, 3, 7, 4,\n",
              "       8, 5, 3, 4, 6, 5, 3, 3, 7, 7, 3, 8])"
            ]
          },
          "metadata": {},
          "execution_count": 25
        }
      ]
    },
    {
      "cell_type": "code",
      "source": [
        "print(\"classification Report: \\n\",classification_report(y_test,y_pred4))"
      ],
      "metadata": {
        "colab": {
          "base_uri": "https://localhost:8080/"
        },
        "id": "oF5WetHSW6kr",
        "outputId": "fa8a085d-831a-4544-b1aa-4d6238c69760"
      },
      "execution_count": 26,
      "outputs": [
        {
          "output_type": "stream",
          "name": "stdout",
          "text": [
            "classification Report: \n",
            "               precision    recall  f1-score   support\n",
            "\n",
            "           3       0.91      0.98      0.94       157\n",
            "           4       0.86      0.84      0.85       153\n",
            "           5       0.62      0.61      0.62       134\n",
            "           6       0.48      0.46      0.47       137\n",
            "           7       0.66      0.75      0.70       151\n",
            "           8       0.97      0.80      0.88       138\n",
            "\n",
            "    accuracy                           0.75       870\n",
            "   macro avg       0.75      0.74      0.74       870\n",
            "weighted avg       0.75      0.75      0.75       870\n",
            "\n"
          ]
        }
      ]
    },
    {
      "cell_type": "code",
      "source": [
        "from sklearn.tree import DecisionTreeClassifier\n",
        "classifier = DecisionTreeClassifier(criterion='entropy')   #here entropy is used\n",
        "classifier.fit(X_train,y_train)\n",
        "y_pred8 = classifier4.predict(X_test)\n",
        "y_pred8"
      ],
      "metadata": {
        "id": "xgNL5PpfW86u",
        "colab": {
          "base_uri": "https://localhost:8080/"
        },
        "outputId": "55fb7b59-a754-4f14-8109-e4cce2065566"
      },
      "execution_count": 27,
      "outputs": [
        {
          "output_type": "execute_result",
          "data": {
            "text/plain": [
              "array([7, 4, 7, 5, 7, 7, 6, 8, 3, 5, 7, 6, 8, 5, 3, 6, 6, 3, 8, 3, 6, 7,\n",
              "       7, 8, 8, 6, 4, 7, 3, 3, 8, 5, 6, 6, 7, 3, 6, 4, 6, 8, 3, 3, 6, 3,\n",
              "       3, 3, 7, 5, 4, 6, 5, 8, 8, 4, 4, 7, 4, 5, 7, 7, 7, 4, 8, 5, 6, 6,\n",
              "       5, 5, 4, 6, 3, 6, 7, 7, 3, 5, 7, 5, 3, 4, 8, 3, 6, 3, 6, 5, 4, 3,\n",
              "       5, 6, 7, 4, 7, 4, 3, 7, 6, 4, 4, 8, 3, 7, 7, 7, 4, 6, 3, 3, 5, 5,\n",
              "       7, 3, 3, 3, 3, 7, 6, 5, 7, 3, 7, 3, 8, 8, 8, 7, 4, 3, 5, 3, 5, 5,\n",
              "       4, 6, 5, 8, 4, 3, 6, 4, 3, 6, 3, 4, 7, 3, 5, 7, 6, 5, 8, 4, 5, 7,\n",
              "       4, 3, 5, 8, 8, 3, 8, 7, 7, 3, 3, 5, 3, 8, 4, 7, 6, 4, 8, 7, 3, 7,\n",
              "       3, 5, 4, 3, 5, 4, 5, 7, 6, 7, 5, 7, 3, 8, 4, 7, 8, 7, 6, 3, 6, 4,\n",
              "       4, 8, 7, 6, 6, 6, 6, 4, 7, 4, 5, 8, 7, 7, 7, 8, 3, 7, 4, 5, 8, 7,\n",
              "       3, 3, 4, 8, 4, 8, 4, 4, 3, 5, 8, 3, 3, 5, 6, 5, 4, 7, 6, 8, 6, 8,\n",
              "       5, 5, 5, 3, 3, 7, 8, 6, 5, 5, 3, 7, 4, 3, 7, 5, 7, 4, 8, 8, 5, 8,\n",
              "       6, 4, 5, 3, 4, 5, 3, 5, 3, 4, 4, 6, 6, 5, 4, 6, 5, 7, 5, 7, 7, 7,\n",
              "       3, 3, 8, 5, 4, 4, 5, 4, 4, 7, 7, 6, 3, 3, 6, 6, 6, 6, 3, 8, 8, 7,\n",
              "       7, 4, 6, 3, 4, 6, 3, 8, 8, 6, 5, 7, 4, 3, 6, 7, 4, 3, 5, 4, 5, 7,\n",
              "       7, 7, 5, 6, 8, 5, 6, 4, 7, 3, 6, 5, 8, 4, 3, 4, 7, 6, 4, 6, 3, 5,\n",
              "       4, 5, 7, 3, 5, 6, 3, 4, 7, 6, 6, 3, 8, 4, 4, 7, 3, 7, 4, 8, 7, 7,\n",
              "       3, 3, 5, 8, 6, 8, 6, 3, 4, 6, 8, 3, 8, 3, 4, 4, 4, 3, 4, 5, 8, 3,\n",
              "       4, 5, 7, 4, 8, 3, 3, 3, 3, 8, 3, 3, 8, 4, 4, 4, 3, 3, 6, 6, 6, 8,\n",
              "       3, 6, 4, 5, 4, 3, 4, 5, 5, 7, 7, 3, 3, 4, 6, 4, 8, 3, 8, 8, 3, 3,\n",
              "       7, 5, 7, 4, 4, 6, 4, 5, 6, 8, 8, 6, 7, 7, 7, 8, 8, 7, 4, 5, 7, 3,\n",
              "       6, 4, 3, 5, 4, 6, 5, 3, 5, 8, 5, 8, 3, 6, 5, 6, 6, 7, 5, 4, 4, 4,\n",
              "       5, 7, 3, 3, 4, 6, 5, 7, 7, 4, 3, 5, 4, 3, 7, 7, 8, 7, 7, 7, 7, 6,\n",
              "       4, 7, 3, 4, 4, 7, 5, 6, 7, 7, 5, 7, 7, 3, 6, 5, 5, 3, 3, 5, 5, 6,\n",
              "       7, 7, 5, 7, 8, 8, 5, 7, 8, 3, 7, 8, 6, 8, 3, 7, 3, 7, 4, 8, 5, 8,\n",
              "       7, 7, 6, 4, 6, 3, 4, 5, 4, 4, 3, 5, 3, 6, 3, 7, 7, 7, 4, 3, 3, 3,\n",
              "       8, 4, 4, 3, 7, 3, 7, 7, 8, 5, 6, 7, 7, 6, 4, 8, 3, 4, 6, 7, 4, 8,\n",
              "       4, 4, 6, 5, 3, 3, 7, 8, 5, 8, 8, 8, 6, 5, 3, 4, 3, 4, 3, 8, 7, 3,\n",
              "       8, 7, 7, 5, 5, 3, 8, 8, 6, 3, 8, 6, 8, 4, 3, 5, 4, 4, 5, 5, 7, 4,\n",
              "       5, 6, 7, 4, 4, 4, 8, 4, 4, 4, 6, 4, 3, 8, 3, 5, 8, 4, 7, 3, 4, 7,\n",
              "       7, 4, 4, 5, 8, 6, 6, 4, 8, 5, 5, 7, 5, 3, 8, 6, 6, 5, 7, 6, 5, 3,\n",
              "       7, 7, 8, 3, 6, 7, 5, 7, 4, 3, 3, 3, 5, 6, 5, 3, 5, 7, 6, 3, 7, 7,\n",
              "       7, 7, 7, 4, 8, 3, 5, 8, 7, 3, 3, 3, 5, 8, 6, 5, 6, 7, 8, 8, 7, 5,\n",
              "       4, 6, 6, 7, 3, 6, 4, 6, 5, 8, 5, 6, 8, 7, 7, 6, 7, 3, 8, 7, 5, 6,\n",
              "       7, 6, 7, 3, 5, 3, 5, 3, 5, 7, 8, 4, 7, 4, 4, 8, 5, 4, 3, 4, 5, 3,\n",
              "       3, 3, 3, 7, 4, 4, 4, 7, 7, 8, 4, 3, 5, 7, 5, 6, 6, 7, 5, 5, 7, 3,\n",
              "       4, 5, 7, 6, 8, 7, 7, 3, 3, 6, 3, 6, 6, 8, 3, 8, 6, 4, 3, 8, 6, 7,\n",
              "       8, 6, 3, 8, 7, 5, 6, 4, 5, 7, 6, 6, 4, 5, 3, 7, 6, 8, 3, 6, 4, 4,\n",
              "       6, 4, 4, 6, 4, 7, 6, 6, 6, 3, 7, 7, 4, 6, 8, 4, 5, 8, 7, 3, 7, 4,\n",
              "       8, 5, 3, 4, 6, 5, 3, 3, 7, 7, 3, 8])"
            ]
          },
          "metadata": {},
          "execution_count": 27
        }
      ]
    },
    {
      "cell_type": "code",
      "source": [
        "print(\"classification Report: \\n\",classification_report(y_test,y_pred8))"
      ],
      "metadata": {
        "colab": {
          "base_uri": "https://localhost:8080/"
        },
        "id": "uh4t4XHwaF-O",
        "outputId": "b291ee2f-9cb0-40d4-818d-03ce8e6de1fd"
      },
      "execution_count": 28,
      "outputs": [
        {
          "output_type": "stream",
          "name": "stdout",
          "text": [
            "classification Report: \n",
            "               precision    recall  f1-score   support\n",
            "\n",
            "           3       0.91      0.98      0.94       157\n",
            "           4       0.86      0.84      0.85       153\n",
            "           5       0.62      0.61      0.62       134\n",
            "           6       0.48      0.46      0.47       137\n",
            "           7       0.66      0.75      0.70       151\n",
            "           8       0.97      0.80      0.88       138\n",
            "\n",
            "    accuracy                           0.75       870\n",
            "   macro avg       0.75      0.74      0.74       870\n",
            "weighted avg       0.75      0.75      0.75       870\n",
            "\n"
          ]
        }
      ]
    },
    {
      "cell_type": "code",
      "source": [],
      "metadata": {
        "id": "XWKUGxw8aZEk"
      },
      "execution_count": 28,
      "outputs": []
    }
  ]
}